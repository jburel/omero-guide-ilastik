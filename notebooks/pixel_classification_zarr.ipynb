{
 "cells": [
  {
   "cell_type": "markdown",
   "metadata": {},
   "source": [
    "# Analyze data using ilastik\n",
    "The notebook shows how load image contained in a dataset\n",
    "from OMERO and analyze them in ilastik.\n",
    "It assumes that ilastik project is linked to the dataset.\n",
    "The metadata are read from OMERO and the Binary data are read from S3.\n",
    "The ilastik results are saved as a zarr file and saved back to OMERO.\n",
    "The order might need to be adjusted depending on the ilastik project."
   ]
  },
  {
   "cell_type": "markdown",
   "metadata": {},
   "source": [
    "### Insert required packages"
   ]
  },
  {
   "cell_type": "code",
   "execution_count": 1,
   "metadata": {},
   "outputs": [],
   "source": [
    "import numpy\n",
    "import os\n",
    "import itertools\n",
    "import zarr\n",
    "import dask.array as da\n",
    "import s3fs\n",
    "\n",
    "import tempfile\n",
    "\n",
    "import omero.clients\n",
    "from omero.gateway import BlitzGateway\n",
    "from getpass import getpass\n",
    "from collections import OrderedDict\n",
    "\n",
    "import ilastik_main\n",
    "from ilastik.applets.dataSelection.opDataSelection import PreloadedArrayDatasetInfo\n",
    "import ipywidgets as widgets\n",
    "# package for 3d visualization\n",
    "from itkwidgets import view"
   ]
  },
  {
   "cell_type": "markdown",
   "metadata": {},
   "source": [
    "### Create a connection to an OMERO server"
   ]
  },
  {
   "cell_type": "code",
   "execution_count": 2,
   "metadata": {},
   "outputs": [
    {
     "name": "stdout",
     "output_type": "stream",
     "text": [
      "Username: trainer-1\n",
      "OMERO Password: ········\n"
     ]
    },
    {
     "data": {
      "text/plain": [
       "True"
      ]
     },
     "execution_count": 2,
     "metadata": {},
     "output_type": "execute_result"
    }
   ],
   "source": [
    "HOST = 'wss://outreach.openmicroscopy.org/omero-ws'\n",
    "conn = BlitzGateway(input(\"Username: \"),\n",
    "                    getpass(\"OMERO Password: \"),\n",
    "                    host=HOST, secure=True)\n",
    "conn.connect()\n",
    "conn.c.enableKeepAlive(60)"
   ]
  },
  {
   "cell_type": "markdown",
   "metadata": {},
   "source": [
    "### Enter the dataset ID"
   ]
  },
  {
   "cell_type": "code",
   "execution_count": 3,
   "metadata": {},
   "outputs": [],
   "source": [
    "dataset_id = 6161"
   ]
  },
  {
   "cell_type": "markdown",
   "metadata": {},
   "source": [
    "### Load the ilastik projects linked to the dataset"
   ]
  },
  {
   "cell_type": "code",
   "execution_count": 4,
   "metadata": {},
   "outputs": [],
   "source": [
    "def load_model(dataset_id, path):\n",
    "    dataset = conn.getObject(\"Dataset\", dataset_id)\n",
    "    # Go through all the annotations on the Dataset\n",
    "    options = []\n",
    "    for ann in dataset.listAnnotations():\n",
    "        if isinstance(ann, omero.gateway.FileAnnotationWrapper):\n",
    "            name = ann.getFile().getName()\n",
    "            # Select the ilatisk project TODO: use namespace\n",
    "            if name.endswith(\".ilp\"):\n",
    "                file_path = os.path.join(path, name)\n",
    "                options.append((name, file_path))\n",
    "                with open(str(file_path), 'wb') as f:\n",
    "                    for chunk in ann.getFileInChunks():\n",
    "                        f.write(chunk)\n",
    "    return widgets.Dropdown(options=options, disabled=False)"
   ]
  },
  {
   "cell_type": "markdown",
   "metadata": {},
   "source": [
    "### Load an Image as 5D-numpy array: order TZYXC"
   ]
  },
  {
   "cell_type": "code",
   "execution_count": 5,
   "metadata": {},
   "outputs": [],
   "source": [
    "def load_from_s3(image, resolution='0'):\n",
    "    cache_size_mb = 2048\n",
    "    # ID to be changed\n",
    "    id = image.getId()\n",
    "    cfg = {\n",
    "        'anon': True,\n",
    "        'client_kwargs': {\n",
    "            'endpoint_url': 'https://s3.embassy.ebi.ac.uk',\n",
    "        },\n",
    "        'root': 'idr/outreach/%s.zarr' % id\n",
    "    }\n",
    "    s3 = s3fs.S3FileSystem(\n",
    "        anon=cfg['anon'],\n",
    "        client_kwargs=cfg['client_kwargs'],\n",
    "    )\n",
    "    store = s3fs.S3Map(root=cfg['root'], s3=s3, check=False)\n",
    "    cached_store = zarr.LRUStoreCache(store, max_size=(cache_size_mb * 2**20))\n",
    "    # data.shape is (t, c, z, y, x) by convention\n",
    "    data = da.from_zarr(cached_store)\n",
    "    values = data[:]\n",
    "    values = values.swapaxes(1, 2).swapaxes(2, 3).swapaxes(3, 4)\n",
    "    return numpy.asarray(values)"
   ]
  },
  {
   "cell_type": "markdown",
   "metadata": {},
   "source": [
    "### Create a temporary directory where to download the ilastik project"
   ]
  },
  {
   "cell_type": "code",
   "execution_count": 6,
   "metadata": {},
   "outputs": [],
   "source": [
    "path = tempfile.mkdtemp()\n",
    "if not os.path.exists(path):\n",
    "    os.makedirs(path)"
   ]
  },
  {
   "cell_type": "markdown",
   "metadata": {},
   "source": [
    "### Select the ilastik project to use."
   ]
  },
  {
   "cell_type": "code",
   "execution_count": 7,
   "metadata": {},
   "outputs": [
    {
     "data": {
      "application/vnd.jupyter.widget-view+json": {
       "model_id": "baee2b3b666a49cdb49c345498c7edb5",
       "version_major": 2,
       "version_minor": 0
      },
      "text/plain": [
       "Dropdown(options=(('pixel-class-133.ilp', '/tmp/tmp1yv83uyd/pixel-class-133.ilp'),), value='/tmp/tmp1yv83uyd/p…"
      ]
     },
     "metadata": {},
     "output_type": "display_data"
    }
   ],
   "source": [
    "model_selection = load_model(dataset_id, path)\n",
    "display(model_selection)"
   ]
  },
  {
   "cell_type": "markdown",
   "metadata": {},
   "source": [
    "### Load each image as a 5D-numpy array and analyze.\n",
    "Save the probabilities as Zarr zip and link it to the image."
   ]
  },
  {
   "cell_type": "code",
   "execution_count": 8,
   "metadata": {},
   "outputs": [
    {
     "name": "stdout",
     "output_type": "stream",
     "text": [
      "INFO ilastik_main: Starting ilastik from \"/srv/conda/envs/notebook\".\n"
     ]
    },
    {
     "name": "stderr",
     "output_type": "stream",
     "text": [
      "INFO:ilastik_main:Starting ilastik from \"/srv/conda/envs/notebook\".\n"
     ]
    },
    {
     "name": "stdout",
     "output_type": "stream",
     "text": [
      "Starting ilastik from \"/srv/conda/envs/notebook\".\n",
      "INFO ilastik_main: Resetting lazyflow thread pool with 2 threads.\n"
     ]
    },
    {
     "name": "stderr",
     "output_type": "stream",
     "text": [
      "INFO:ilastik_main:Resetting lazyflow thread pool with 2 threads.\n"
     ]
    },
    {
     "name": "stdout",
     "output_type": "stream",
     "text": [
      "INFO ilastik_main: Configuring lazyflow RAM limit to 2.0GiB\n"
     ]
    },
    {
     "name": "stderr",
     "output_type": "stream",
     "text": [
      "INFO:ilastik_main:Configuring lazyflow RAM limit to 2.0GiB\n"
     ]
    },
    {
     "name": "stdout",
     "output_type": "stream",
     "text": [
      "INFO lazyflow.utility.memory: Available memory set to 2.0GiB\n"
     ]
    },
    {
     "name": "stderr",
     "output_type": "stream",
     "text": [
      "INFO:lazyflow.utility.memory:Available memory set to 2.0GiB\n",
      "WARNING 2020-04-27 12:24:33,269 memory 71 139653165537088 User specified memory exceeds memory physically available. Please check theconfiguration.\n",
      "WARNING:lazyflow.utility.memory:User specified memory exceeds memory physically available. Please check theconfiguration.\n",
      "WARNING 2020-04-27 12:24:34,102 __init__ 71 139653165537088 Failed to automatic tracking workflow; check dependencies: libemon.so.1.3.1: cannot open shared object file: No such file or directory\n",
      "WARNING:ilastik.workflows.tracking.conservation:Failed to automatic tracking workflow; check dependencies: libemon.so.1.3.1: cannot open shared object file: No such file or directory\n",
      "WARNING 2020-04-27 12:24:34,109 __init__ 71 139653165537088 Failed to import automatic tracking workflow (conservation tracking). For this workflow, see the installationinstructions on our website ilastik.org; check dependencies: libemon.so.1.3.1: cannot open shared object file: No such file or directory\n",
      "WARNING:ilastik.workflows:Failed to import automatic tracking workflow (conservation tracking). For this workflow, see the installationinstructions on our website ilastik.org; check dependencies: libemon.so.1.3.1: cannot open shared object file: No such file or directory\n",
      "WARNING 2020-04-27 12:24:34,119 __init__ 71 139653165537088 Failed to import structured learning tracking workflow. For this workflow, see the installationinstructions on our website ilastik.org; check dependencies: libemon.so.1.3.1: cannot open shared object file: No such file or directory\n",
      "WARNING:ilastik.workflows:Failed to import structured learning tracking workflow. For this workflow, see the installationinstructions on our website ilastik.org; check dependencies: libemon.so.1.3.1: cannot open shared object file: No such file or directory\n"
     ]
    },
    {
     "name": "stdout",
     "output_type": "stream",
     "text": [
      "INFO ilastik.shell.projectManager: Opening Project: /tmp/tmp1yv83uyd/pixel-class-133.ilp\n"
     ]
    },
    {
     "name": "stderr",
     "output_type": "stream",
     "text": [
      "INFO:ilastik.shell.projectManager:Opening Project: /tmp/tmp1yv83uyd/pixel-class-133.ilp\n",
      "WARNING projectManager.py(158): H5pyDeprecationWarning: dataset.value has been deprecated. Use dataset[()] instead.\n",
      "WARNING projectManager.py(168): H5pyDeprecationWarning: dataset.value has been deprecated. Use dataset[()] instead.\n",
      "WARNING dataSelectionSerializer.py(385): H5pyDeprecationWarning: dataset.value has been deprecated. Use dataset[()] instead.\n",
      "WARNING featureSelectionSerializer.py(91): H5pyDeprecationWarning: dataset.value has been deprecated. Use dataset[()] instead.\n",
      "WARNING featureSelectionSerializer.py(96): H5pyDeprecationWarning: dataset.value has been deprecated. Use dataset[()] instead.\n",
      "WARNING featureSelectionSerializer.py(102): H5pyDeprecationWarning: dataset.value has been deprecated. Use dataset[()] instead.\n",
      "WARNING featureSelectionSerializer.py(122): H5pyDeprecationWarning: dataset.value has been deprecated. Use dataset[()] instead.\n",
      "WARNING opSimpleBlockedArrayCache.py(43): FutureWarning: Conversion of the second argument of issubdtype from `dtype` to `np.generic` is deprecated. In future, it will be treated as `np.object_ == np.dtype(dtype).type`.\n",
      "WARNING opSlicedBlockedArrayCache.py(141): FutureWarning: Conversion of the second argument of issubdtype from `dtype` to `np.generic` is deprecated. In future, it will be treated as `np.object_ == np.dtype(dtype).type`.\n",
      "WARNING featureSelectionSerializer.py(169): H5pyDeprecationWarning: dataset.value has been deprecated. Use dataset[()] instead.\n",
      "WARNING pixelClassificationSerializer.py(227): H5pyDeprecationWarning: dataset.value has been deprecated. Use dataset[()] instead.\n",
      "WARNING opSimpleBlockedArrayCache.py(43): FutureWarning: Conversion of the second argument of issubdtype from `dtype` to `np.generic` is deprecated. In future, it will be treated as `np.object_ == np.dtype(dtype).type`.\n",
      "WARNING opSlicedBlockedArrayCache.py(141): FutureWarning: Conversion of the second argument of issubdtype from `dtype` to `np.generic` is deprecated. In future, it will be treated as `np.object_ == np.dtype(dtype).type`.\n"
     ]
    },
    {
     "name": "stdout",
     "output_type": "stream",
     "text": [
      "running ilastik using /tmp/tmp1yv83uyd/pixel-class-133.ilp and B1_C1.tif\n",
      "INFO ilastik.applets.batchProcessing.batchProcessingApplet: Exporting to in-memory array.\n"
     ]
    },
    {
     "name": "stderr",
     "output_type": "stream",
     "text": [
      "INFO:ilastik.applets.batchProcessing.batchProcessingApplet:Exporting to in-memory array.\n"
     ]
    },
    {
     "name": "stdout",
     "output_type": "stream",
     "text": [
      "INFO lazyflow.utility.bigRequestStreamer: Estimated RAM usage per pixel is 504.0B * safety factor (2.0)\n"
     ]
    },
    {
     "name": "stderr",
     "output_type": "stream",
     "text": [
      "INFO:lazyflow.utility.bigRequestStreamer:Estimated RAM usage per pixel is 504.0B * safety factor (2.0)\n"
     ]
    },
    {
     "name": "stdout",
     "output_type": "stream",
     "text": [
      "INFO lazyflow.utility.bigRequestStreamer: determining blockshape assuming available_ram is 1.5GiB, split between 2 threads\n"
     ]
    },
    {
     "name": "stderr",
     "output_type": "stream",
     "text": [
      "INFO:lazyflow.utility.bigRequestStreamer:determining blockshape assuming available_ram is 1.5GiB, split between 2 threads\n"
     ]
    },
    {
     "name": "stdout",
     "output_type": "stream",
     "text": [
      "INFO lazyflow.utility.bigRequestStreamer: Chose blockshape: (1, 92, 92, 92, 2)\n"
     ]
    },
    {
     "name": "stderr",
     "output_type": "stream",
     "text": [
      "INFO:lazyflow.utility.bigRequestStreamer:Chose blockshape: (1, 92, 92, 92, 2)\n"
     ]
    },
    {
     "name": "stdout",
     "output_type": "stream",
     "text": [
      "INFO lazyflow.utility.bigRequestStreamer: Estimated RAM usage per block is 748.6MiB\n"
     ]
    },
    {
     "name": "stderr",
     "output_type": "stream",
     "text": [
      "INFO:lazyflow.utility.bigRequestStreamer:Estimated RAM usage per block is 748.6MiB\n",
      "WARNING arraytypes.py(1263): FutureWarning: Using a non-tuple sequence for multidimensional indexing is deprecated; use `arr[tuple(seq)]` instead of `arr[seq]`. In the future this will be interpreted as an array index, `arr[np.array(seq)]`, which will result either in an error or a different result.\n",
      "WARNING arraytypes.py(1269): FutureWarning: Using a non-tuple sequence for multidimensional indexing is deprecated; use `arr[tuple(seq)]` instead of `arr[seq]`. In the future this will be interpreted as an array index, `arr[np.array(seq)]`, which will result either in an error or a different result.\n"
     ]
    },
    {
     "name": "stdout",
     "output_type": "stream",
     "text": [
      "DEBUG lazyflow.operators.classifierOperators: Features took 11.183089 seconds. Prediction took 2.217115 seconds. Subregion: start '[0, 0, 0, 0]' stop '[92, 92, 92, 2]'\n"
     ]
    },
    {
     "name": "stderr",
     "output_type": "stream",
     "text": [
      "DEBUG:lazyflow.operators.classifierOperators:Features took 11.183089 seconds. Prediction took 2.217115 seconds. Subregion: start '[0, 0, 0, 0]' stop '[92, 92, 92, 2]'\n"
     ]
    },
    {
     "name": "stdout",
     "output_type": "stream",
     "text": [
      "DEBUG lazyflow.operators.classifierOperators: Features took 14.800406 seconds. Prediction took 2.823284 seconds. Subregion: start '[0, 0, 92, 0]' stop '[92, 92, 184, 2]'\n"
     ]
    },
    {
     "name": "stderr",
     "output_type": "stream",
     "text": [
      "DEBUG:lazyflow.operators.classifierOperators:Features took 14.800406 seconds. Prediction took 2.823284 seconds. Subregion: start '[0, 0, 92, 0]' stop '[92, 92, 184, 2]'\n"
     ]
    },
    {
     "name": "stdout",
     "output_type": "stream",
     "text": [
      "DEBUG lazyflow.operators.classifierOperators: Features took 6.18454 seconds. Prediction took 3.069148 seconds. Subregion: start '[0, 0, 184, 0]' stop '[92, 92, 271, 2]'\n"
     ]
    },
    {
     "name": "stderr",
     "output_type": "stream",
     "text": [
      "DEBUG:lazyflow.operators.classifierOperators:Features took 6.18454 seconds. Prediction took 3.069148 seconds. Subregion: start '[0, 0, 184, 0]' stop '[92, 92, 271, 2]'\n"
     ]
    },
    {
     "name": "stdout",
     "output_type": "stream",
     "text": [
      "DEBUG lazyflow.operators.classifierOperators: Features took 6.965679 seconds. Prediction took 3.529452 seconds. Subregion: start '[0, 92, 0, 0]' stop '[92, 184, 92, 2]'\n"
     ]
    },
    {
     "name": "stderr",
     "output_type": "stream",
     "text": [
      "DEBUG:lazyflow.operators.classifierOperators:Features took 6.965679 seconds. Prediction took 3.529452 seconds. Subregion: start '[0, 92, 0, 0]' stop '[92, 184, 92, 2]'\n"
     ]
    },
    {
     "name": "stdout",
     "output_type": "stream",
     "text": [
      "DEBUG lazyflow.operators.classifierOperators: Features took 10.492168 seconds. Prediction took 1.66841 seconds. Subregion: start '[0, 92, 92, 0]' stop '[92, 184, 184, 2]'\n"
     ]
    },
    {
     "name": "stderr",
     "output_type": "stream",
     "text": [
      "DEBUG:lazyflow.operators.classifierOperators:Features took 10.492168 seconds. Prediction took 1.66841 seconds. Subregion: start '[0, 92, 92, 0]' stop '[92, 184, 184, 2]'\n"
     ]
    },
    {
     "name": "stdout",
     "output_type": "stream",
     "text": [
      "DEBUG lazyflow.operators.classifierOperators: Features took 10.225917 seconds. Prediction took 1.660726 seconds. Subregion: start '[0, 92, 184, 0]' stop '[92, 184, 271, 2]'\n"
     ]
    },
    {
     "name": "stderr",
     "output_type": "stream",
     "text": [
      "DEBUG:lazyflow.operators.classifierOperators:Features took 10.225917 seconds. Prediction took 1.660726 seconds. Subregion: start '[0, 92, 184, 0]' stop '[92, 184, 271, 2]'\n"
     ]
    },
    {
     "name": "stdout",
     "output_type": "stream",
     "text": [
      "DEBUG lazyflow.operators.classifierOperators: Features took 6.386081 seconds. Prediction took 3.18427 seconds. Subregion: start '[0, 184, 0, 0]' stop '[92, 275, 92, 2]'\n"
     ]
    },
    {
     "name": "stderr",
     "output_type": "stream",
     "text": [
      "DEBUG:lazyflow.operators.classifierOperators:Features took 6.386081 seconds. Prediction took 3.18427 seconds. Subregion: start '[0, 184, 0, 0]' stop '[92, 275, 92, 2]'\n"
     ]
    },
    {
     "name": "stdout",
     "output_type": "stream",
     "text": [
      "DEBUG lazyflow.operators.classifierOperators: Features took 8.864821 seconds. Prediction took 1.670439 seconds. Subregion: start '[0, 184, 92, 0]' stop '[92, 275, 184, 2]'\n"
     ]
    },
    {
     "name": "stderr",
     "output_type": "stream",
     "text": [
      "DEBUG:lazyflow.operators.classifierOperators:Features took 8.864821 seconds. Prediction took 1.670439 seconds. Subregion: start '[0, 184, 92, 0]' stop '[92, 275, 184, 2]'\n"
     ]
    },
    {
     "name": "stdout",
     "output_type": "stream",
     "text": [
      "DEBUG lazyflow.operators.classifierOperators: Features took 7.209011 seconds. Prediction took 2.242953 seconds. Subregion: start '[0, 184, 184, 0]' stop '[92, 275, 271, 2]'\n"
     ]
    },
    {
     "name": "stderr",
     "output_type": "stream",
     "text": [
      "DEBUG:lazyflow.operators.classifierOperators:Features took 7.209011 seconds. Prediction took 2.242953 seconds. Subregion: start '[0, 184, 184, 0]' stop '[92, 275, 271, 2]'\n"
     ]
    },
    {
     "name": "stdout",
     "output_type": "stream",
     "text": [
      "DEBUG lazyflow.operators.classifierOperators: Features took 5.309802 seconds. Prediction took 3.062936 seconds. Subregion: start '[92, 0, 0, 0]' stop '[184, 92, 92, 2]'\n"
     ]
    },
    {
     "name": "stderr",
     "output_type": "stream",
     "text": [
      "DEBUG:lazyflow.operators.classifierOperators:Features took 5.309802 seconds. Prediction took 3.062936 seconds. Subregion: start '[92, 0, 0, 0]' stop '[184, 92, 92, 2]'\n"
     ]
    },
    {
     "name": "stdout",
     "output_type": "stream",
     "text": [
      "DEBUG lazyflow.operators.classifierOperators: Features took 7.472933 seconds. Prediction took 1.750814 seconds. Subregion: start '[92, 0, 92, 0]' stop '[184, 92, 184, 2]'\n"
     ]
    },
    {
     "name": "stderr",
     "output_type": "stream",
     "text": [
      "DEBUG:lazyflow.operators.classifierOperators:Features took 7.472933 seconds. Prediction took 1.750814 seconds. Subregion: start '[92, 0, 92, 0]' stop '[184, 92, 184, 2]'\n"
     ]
    },
    {
     "name": "stdout",
     "output_type": "stream",
     "text": [
      "DEBUG lazyflow.operators.classifierOperators: Features took 5.769105 seconds. Prediction took 4.360494 seconds. Subregion: start '[92, 0, 184, 0]' stop '[184, 92, 271, 2]'\n"
     ]
    },
    {
     "name": "stderr",
     "output_type": "stream",
     "text": [
      "DEBUG:lazyflow.operators.classifierOperators:Features took 5.769105 seconds. Prediction took 4.360494 seconds. Subregion: start '[92, 0, 184, 0]' stop '[184, 92, 271, 2]'\n"
     ]
    },
    {
     "name": "stdout",
     "output_type": "stream",
     "text": [
      "DEBUG lazyflow.operators.classifierOperators: Features took 7.948475 seconds. Prediction took 2.733769 seconds. Subregion: start '[92, 92, 0, 0]' stop '[184, 184, 92, 2]'\n"
     ]
    },
    {
     "name": "stderr",
     "output_type": "stream",
     "text": [
      "DEBUG:lazyflow.operators.classifierOperators:Features took 7.948475 seconds. Prediction took 2.733769 seconds. Subregion: start '[92, 92, 0, 0]' stop '[184, 184, 92, 2]'\n"
     ]
    },
    {
     "name": "stdout",
     "output_type": "stream",
     "text": [
      "DEBUG lazyflow.operators.classifierOperators: Features took 7.929733 seconds. Prediction took 1.5834679999999999 seconds. Subregion: start '[92, 92, 92, 0]' stop '[184, 184, 184, 2]'\n"
     ]
    },
    {
     "name": "stderr",
     "output_type": "stream",
     "text": [
      "DEBUG:lazyflow.operators.classifierOperators:Features took 7.929733 seconds. Prediction took 1.5834679999999999 seconds. Subregion: start '[92, 92, 92, 0]' stop '[184, 184, 184, 2]'\n"
     ]
    },
    {
     "name": "stdout",
     "output_type": "stream",
     "text": [
      "DEBUG lazyflow.operators.classifierOperators: Features took 5.797661 seconds. Prediction took 2.7064 seconds. Subregion: start '[92, 92, 184, 0]' stop '[184, 184, 271, 2]'\n"
     ]
    },
    {
     "name": "stderr",
     "output_type": "stream",
     "text": [
      "DEBUG:lazyflow.operators.classifierOperators:Features took 5.797661 seconds. Prediction took 2.7064 seconds. Subregion: start '[92, 92, 184, 0]' stop '[184, 184, 271, 2]'\n"
     ]
    },
    {
     "name": "stdout",
     "output_type": "stream",
     "text": [
      "DEBUG lazyflow.operators.classifierOperators: Features took 6.236268 seconds. Prediction took 2.892905 seconds. Subregion: start '[92, 184, 0, 0]' stop '[184, 275, 92, 2]'\n"
     ]
    },
    {
     "name": "stderr",
     "output_type": "stream",
     "text": [
      "DEBUG:lazyflow.operators.classifierOperators:Features took 6.236268 seconds. Prediction took 2.892905 seconds. Subregion: start '[92, 184, 0, 0]' stop '[184, 275, 92, 2]'\n"
     ]
    },
    {
     "name": "stdout",
     "output_type": "stream",
     "text": [
      "DEBUG lazyflow.operators.classifierOperators: Features took 7.430895 seconds. Prediction took 1.666681 seconds. Subregion: start '[92, 184, 92, 0]' stop '[184, 275, 184, 2]'\n"
     ]
    },
    {
     "name": "stderr",
     "output_type": "stream",
     "text": [
      "DEBUG:lazyflow.operators.classifierOperators:Features took 7.430895 seconds. Prediction took 1.666681 seconds. Subregion: start '[92, 184, 92, 0]' stop '[184, 275, 184, 2]'\n"
     ]
    },
    {
     "name": "stdout",
     "output_type": "stream",
     "text": [
      "DEBUG lazyflow.operators.classifierOperators: Features took 5.442956 seconds. Prediction took 2.088279 seconds. Subregion: start '[92, 184, 184, 0]' stop '[184, 275, 271, 2]'\n"
     ]
    },
    {
     "name": "stderr",
     "output_type": "stream",
     "text": [
      "DEBUG:lazyflow.operators.classifierOperators:Features took 5.442956 seconds. Prediction took 2.088279 seconds. Subregion: start '[92, 184, 184, 0]' stop '[184, 275, 271, 2]'\n"
     ]
    },
    {
     "name": "stdout",
     "output_type": "stream",
     "text": [
      "DEBUG lazyflow.operators.classifierOperators: Features took 3.727894 seconds. Prediction took 1.378719 seconds. Subregion: start '[184, 0, 0, 0]' stop '[236, 92, 92, 2]'\n"
     ]
    },
    {
     "name": "stderr",
     "output_type": "stream",
     "text": [
      "DEBUG:lazyflow.operators.classifierOperators:Features took 3.727894 seconds. Prediction took 1.378719 seconds. Subregion: start '[184, 0, 0, 0]' stop '[236, 92, 92, 2]'\n"
     ]
    },
    {
     "name": "stdout",
     "output_type": "stream",
     "text": [
      "DEBUG lazyflow.operators.classifierOperators: Features took 3.456529 seconds. Prediction took 1.842933 seconds. Subregion: start '[184, 0, 92, 0]' stop '[236, 92, 184, 2]'\n"
     ]
    },
    {
     "name": "stderr",
     "output_type": "stream",
     "text": [
      "DEBUG:lazyflow.operators.classifierOperators:Features took 3.456529 seconds. Prediction took 1.842933 seconds. Subregion: start '[184, 0, 92, 0]' stop '[236, 92, 184, 2]'\n"
     ]
    },
    {
     "name": "stdout",
     "output_type": "stream",
     "text": [
      "DEBUG lazyflow.operators.classifierOperators: Features took 4.951531 seconds. Prediction took 1.187989 seconds. Subregion: start '[184, 0, 184, 0]' stop '[236, 92, 271, 2]'\n"
     ]
    },
    {
     "name": "stderr",
     "output_type": "stream",
     "text": [
      "DEBUG:lazyflow.operators.classifierOperators:Features took 4.951531 seconds. Prediction took 1.187989 seconds. Subregion: start '[184, 0, 184, 0]' stop '[236, 92, 271, 2]'\n"
     ]
    },
    {
     "name": "stdout",
     "output_type": "stream",
     "text": [
      "DEBUG lazyflow.operators.classifierOperators: Features took 4.573708 seconds. Prediction took 0.922709 seconds. Subregion: start '[184, 92, 0, 0]' stop '[236, 184, 92, 2]'\n"
     ]
    },
    {
     "name": "stderr",
     "output_type": "stream",
     "text": [
      "DEBUG:lazyflow.operators.classifierOperators:Features took 4.573708 seconds. Prediction took 0.922709 seconds. Subregion: start '[184, 92, 0, 0]' stop '[236, 184, 92, 2]'\n"
     ]
    },
    {
     "name": "stdout",
     "output_type": "stream",
     "text": [
      "DEBUG lazyflow.operators.classifierOperators: Features took 3.9550549999999998 seconds. Prediction took 1.372802 seconds. Subregion: start '[184, 92, 92, 0]' stop '[236, 184, 184, 2]'\n"
     ]
    },
    {
     "name": "stderr",
     "output_type": "stream",
     "text": [
      "DEBUG:lazyflow.operators.classifierOperators:Features took 3.9550549999999998 seconds. Prediction took 1.372802 seconds. Subregion: start '[184, 92, 92, 0]' stop '[236, 184, 184, 2]'\n"
     ]
    },
    {
     "name": "stdout",
     "output_type": "stream",
     "text": [
      "DEBUG lazyflow.operators.classifierOperators: Features took 3.239849 seconds. Prediction took 1.6126070000000001 seconds. Subregion: start '[184, 92, 184, 0]' stop '[236, 184, 271, 2]'\n"
     ]
    },
    {
     "name": "stderr",
     "output_type": "stream",
     "text": [
      "DEBUG:lazyflow.operators.classifierOperators:Features took 3.239849 seconds. Prediction took 1.6126070000000001 seconds. Subregion: start '[184, 92, 184, 0]' stop '[236, 184, 271, 2]'\n"
     ]
    },
    {
     "name": "stdout",
     "output_type": "stream",
     "text": [
      "DEBUG lazyflow.operators.classifierOperators: Features took 4.506909 seconds. Prediction took 1.206599 seconds. Subregion: start '[184, 184, 0, 0]' stop '[236, 275, 92, 2]'\n"
     ]
    },
    {
     "name": "stderr",
     "output_type": "stream",
     "text": [
      "DEBUG:lazyflow.operators.classifierOperators:Features took 4.506909 seconds. Prediction took 1.206599 seconds. Subregion: start '[184, 184, 0, 0]' stop '[236, 275, 92, 2]'\n"
     ]
    },
    {
     "name": "stdout",
     "output_type": "stream",
     "text": [
      "DEBUG lazyflow.operators.classifierOperators: Features took 3.621525 seconds. Prediction took 1.1756630000000001 seconds. Subregion: start '[184, 184, 92, 0]' stop '[236, 275, 184, 2]'\n"
     ]
    },
    {
     "name": "stderr",
     "output_type": "stream",
     "text": [
      "DEBUG:lazyflow.operators.classifierOperators:Features took 3.621525 seconds. Prediction took 1.1756630000000001 seconds. Subregion: start '[184, 184, 92, 0]' stop '[236, 275, 184, 2]'\n"
     ]
    },
    {
     "name": "stdout",
     "output_type": "stream",
     "text": [
      "DEBUG lazyflow.operators.classifierOperators: Features took 2.130148 seconds. Prediction took 0.836557 seconds. Subregion: start '[184, 184, 184, 0]' stop '[236, 275, 271, 2]'\n"
     ]
    },
    {
     "name": "stderr",
     "output_type": "stream",
     "text": [
      "DEBUG:lazyflow.operators.classifierOperators:Features took 2.130148 seconds. Prediction took 0.836557 seconds. Subregion: start '[184, 184, 184, 0]' stop '[236, 275, 271, 2]'\n"
     ]
    },
    {
     "name": "stdout",
     "output_type": "stream",
     "text": [
      "Saving Probabilities as zip attached to the Image in OMERO\n",
      "done\n"
     ]
    }
   ],
   "source": [
    "# Load the model linked to the dataset\n",
    "model_file = model_selection.value\n",
    "\n",
    "\n",
    "images = conn.getObjects('Image', opts={'dataset': dataset_id})\n",
    "\n",
    "# Prepare ilastik\n",
    "os.environ[\"LAZYFLOW_THREADS\"] = \"2\"\n",
    "os.environ[\"LAZYFLOW_TOTAL_RAM_MB\"] = \"2000\"\n",
    "args = ilastik_main.parse_args([])\n",
    "args.headless = True\n",
    "args.project = model_file\n",
    "shell = ilastik_main.main(args)\n",
    "\n",
    "values = itertools.islice(images, 2)\n",
    "for image in values:\n",
    "    filename, file_extension = os.path.splitext(image.getName())\n",
    "    input_data = load_from_s3(image)\n",
    "\n",
    "    # run ilastik headless\n",
    "    print('running ilastik using %s and %s' % (model_file, image.getName()))\n",
    "    role_data_dict = OrderedDict(\n",
    "    [\n",
    "        (\n",
    "            \"Raw Data\",\n",
    "            [\n",
    "                PreloadedArrayDatasetInfo(preloaded_array=input_data)\n",
    "            ],\n",
    "        )\n",
    "    ])\n",
    "\n",
    "    predictions = shell.workflow.batchProcessingApplet.run_export(role_data_dict, export_to_array=True)\n",
    "    # Save the probabilities file to the image\n",
    "    print(\"Saving Probabilities as zip attached to the Image in OMERO\")\n",
    "    namespace = \"ilastik.zarr.demo\"\n",
    "    name = filename + \"_Probabilities_zarr.zip\"\n",
    "    desc = \"ilastik probabilities from Image:%s\" % image.getId()\n",
    "    for data in predictions:\n",
    "        file_path = os.path.join(path, name)\n",
    "        # Re-organise array from tzyxc to zctyx order expected by OMERO\n",
    "        data = data.swapaxes(0, 1).swapaxes(3, 4).swapaxes(2, 3).swapaxes(1, 2)\n",
    "        data_viewer = data[:, 0, 0, :, :]\n",
    "print(\"done\")"
   ]
  },
  {
   "cell_type": "markdown",
   "metadata": {},
   "source": [
    "### View the results."
   ]
  },
  {
   "cell_type": "code",
   "execution_count": 9,
   "metadata": {},
   "outputs": [
    {
     "data": {
      "application/vnd.jupyter.widget-view+json": {
       "model_id": "50060e0950954c969d39a338bc2b9462",
       "version_major": 2,
       "version_minor": 0
      },
      "text/plain": [
       "Viewer(rendered_image=<itkImagePython.itkImageF3; proxy of <Swig Object of type 'itkImageF3 *' at 0x7f0354361f…"
      ]
     },
     "metadata": {},
     "output_type": "display_data"
    }
   ],
   "source": [
    "view(data_viewer)"
   ]
  },
  {
   "cell_type": "markdown",
   "metadata": {},
   "source": [
    "### Close the connection to the OMERO server"
   ]
  },
  {
   "cell_type": "code",
   "execution_count": 10,
   "metadata": {},
   "outputs": [],
   "source": [
    "conn.close()"
   ]
  },
  {
   "cell_type": "markdown",
   "metadata": {
    "collapsed": true
   },
   "source": [
    "### License\n",
    "Copyright (C) 2019-2020 University of Dundee. All Rights Reserved.\n",
    "This program is free software; you can redistribute it and/or modify it\n",
    "under the terms of the GNU General Public License as published by the\n",
    "Free Software Foundation; either version 2 of the License, or\n",
    "(at your option) any later version.\n",
    "This program is distributed in the hope that it will be useful, but\n",
    "WITHOUT ANY WARRANTY; without even the implied warranty of MERCHANTABILITY\n",
    "or FITNESS FOR A PARTICULAR PURPOSE. See the GNU General Public License for\n",
    "more details. You should have received a copy of the GNU General\n",
    "Public License along with this program; if not, write to the\n",
    "Free Software Foundation,\n",
    "Inc., 51 Franklin Street, Fifth Floor, Boston, MA 02110-1301 USA."
   ]
  }
 ],
 "metadata": {
  "kernelspec": {
   "display_name": "Python 3",
   "language": "python",
   "name": "python3"
  },
  "language_info": {
   "codemirror_mode": {
    "name": "ipython",
    "version": 3
   },
   "file_extension": ".py",
   "mimetype": "text/x-python",
   "name": "python",
   "nbconvert_exporter": "python",
   "pygments_lexer": "ipython3",
   "version": "3.7.6"
  },
  "toc": {
   "base_numbering": 1,
   "nav_menu": {},
   "number_sections": false,
   "sideBar": false,
   "skip_h1_title": false,
   "title_cell": "Table of Contents",
   "title_sidebar": "Contents",
   "toc_cell": false,
   "toc_position": {},
   "toc_section_display": false,
   "toc_window_display": false
  }
 },
 "nbformat": 4,
 "nbformat_minor": 2
}

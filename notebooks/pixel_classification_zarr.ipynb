{
 "cells": [
  {
   "cell_type": "markdown",
   "metadata": {},
   "source": [
    "# Analyze data using ilastik\n",
    "The notebook shows how load images contained in a dataset\n",
    "from OMERO as numpy arrays and analyze them in ilastik.\n",
    "It assumes that ilastik project is linked to the dataset.\n",
    "Binary data are read from S3.\n",
    "The order might need to be adjusted depending on the ilastik project."
   ]
  },
  {
   "cell_type": "markdown",
   "metadata": {},
   "source": [
    "### Insert required packages"
   ]
  },
  {
   "cell_type": "code",
   "execution_count": 1,
   "metadata": {},
   "outputs": [],
   "source": [
    "import numpy\n",
    "import os\n",
    "import itertools\n",
    "import zarr\n",
    "import dask.array as da\n",
    "import s3fs\n",
    "\n",
    "import tempfile\n",
    "\n",
    "import omero.clients\n",
    "from omero.gateway import BlitzGateway\n",
    "from getpass import getpass\n",
    "from collections import OrderedDict\n",
    "\n",
    "from collections import OrderedDict\n",
    "import ilastik_main\n",
    "from ilastik.applets.dataSelection import DatasetInfo\n",
    "from ilastik.applets.dataSelection.opDataSelection import PreloadedArrayDatasetInfo\n",
    "import ipywidgets as widgets\n",
    "# package for 3d visualization\n",
    "from itkwidgets import view\n",
    "import matplotlib.pyplot as plt\n",
    "plt.rcParams[\"figure.figsize\"] = [16, 12]"
   ]
  },
  {
   "cell_type": "markdown",
   "metadata": {},
   "source": [
    "### Create a connection to an OMERO server"
   ]
  },
  {
   "cell_type": "code",
   "execution_count": 2,
   "metadata": {},
   "outputs": [
    {
     "name": "stdout",
     "output_type": "stream",
     "text": [
      "Username: trainer-1\n",
      "OMERO Password: ········\n"
     ]
    },
    {
     "data": {
      "text/plain": [
       "True"
      ]
     },
     "execution_count": 2,
     "metadata": {},
     "output_type": "execute_result"
    }
   ],
   "source": [
    "HOST = 'wss://outreach.openmicroscopy.org/omero-ws'\n",
    "conn = BlitzGateway(input(\"Username: \"),\n",
    "                    getpass(\"OMERO Password: \"),\n",
    "                    host=HOST, secure=True)\n",
    "conn.connect()"
   ]
  },
  {
   "cell_type": "markdown",
   "metadata": {},
   "source": [
    "### Enter the dataset ID"
   ]
  },
  {
   "cell_type": "code",
   "execution_count": 3,
   "metadata": {},
   "outputs": [],
   "source": [
    "dataset_id = 6161"
   ]
  },
  {
   "cell_type": "markdown",
   "metadata": {},
   "source": [
    "### Load the ilastik projects linked to the dataset"
   ]
  },
  {
   "cell_type": "code",
   "execution_count": 4,
   "metadata": {},
   "outputs": [],
   "source": [
    "def load_model(dataset_id, path):\n",
    "    dataset = conn.getObject(\"Dataset\", dataset_id)\n",
    "    # Go through all the annotations on the Dataset\n",
    "    options = []\n",
    "    for ann in dataset.listAnnotations():\n",
    "        if isinstance(ann, omero.gateway.FileAnnotationWrapper):\n",
    "            name = ann.getFile().getName()\n",
    "            # Select the ilatisk project TODO: use namespace\n",
    "            if name.endswith(\".ilp\"):\n",
    "                file_path = os.path.join(path, name)\n",
    "                options.append((name, file_path))\n",
    "                with open(str(file_path), 'wb') as f:\n",
    "                    for chunk in ann.getFileInChunks():\n",
    "                        f.write(chunk)\n",
    "    return widgets.Dropdown(options=options, disabled=False)"
   ]
  },
  {
   "cell_type": "markdown",
   "metadata": {},
   "source": [
    "### Helper function: load an Image as 5D-numpy array: order TZYXC"
   ]
  },
  {
   "cell_type": "code",
   "execution_count": 5,
   "metadata": {},
   "outputs": [],
   "source": [
    "def load_from_s3(image, resolution='0'):\n",
    "    cache_size_mb = 2048\n",
    "    # ID to be changed\n",
    "    id = image.getId()\n",
    "    cfg = {\n",
    "        'anon': True,\n",
    "        'client_kwargs': {\n",
    "            'endpoint_url': 'https://minio-dev.openmicroscopy.org/',\n",
    "        },\n",
    "        'root': 'idr/outreach/%s.zarr' % id\n",
    "    }\n",
    "    s3 = s3fs.S3FileSystem(\n",
    "        anon=cfg['anon'],\n",
    "        client_kwargs=cfg['client_kwargs'],\n",
    "    )\n",
    "    store = s3fs.S3Map(root=cfg['root'], s3=s3, check=False)\n",
    "    cached_store = zarr.LRUStoreCache(store, max_size=(cache_size_mb * 2**20))\n",
    "    # data.shape is (t, c, z, y, x) by convention\n",
    "    data = da.from_zarr(cached_store)\n",
    "    values = data[:]\n",
    "    values = values.swapaxes(1, 2).swapaxes(2, 3).swapaxes(3, 4)\n",
    "    return numpy.asarray(values)"
   ]
  },
  {
   "cell_type": "code",
   "execution_count": 6,
   "metadata": {},
   "outputs": [],
   "source": [
    "def load_data(image, path, extension=\".zip\", resolution=0):\n",
    "    # load annotation linked to the image. Download in a tmp dir\n",
    "    for ann in image.listAnnotations():\n",
    "        if isinstance(ann, omero.gateway.FileAnnotationWrapper):\n",
    "            name = ann.getFile().getName()\n",
    "            ns = ann.getNs()\n",
    "            if (name.endswith(\".zip\") or  name.endswith(\".tar\")):\n",
    "                file_path = os.path.join(path, name)\n",
    "                f_path = os.path.join(path, name.strip(extension))\n",
    "                with open(str(file_path), 'wb') as f:\n",
    "                    for chunk in ann.getFileInChunks():\n",
    "                        f.write(chunk)\n",
    "                # extract the file\n",
    "                if extension == \".tar\":\n",
    "                    tf = tarfile.open(file_path)\n",
    "                    tf.extractall(path)\n",
    "                    tf.close()\n",
    "                    data = zarr.open(f_path)\n",
    "                    values = data[resolution][:]\n",
    "                    return values\n",
    "                else:\n",
    "                    data = zarr.open(file_path)\n",
    "                    return data[:, :, :, :, :]\n",
    "    return None"
   ]
  },
  {
   "cell_type": "markdown",
   "metadata": {},
   "source": [
    "### Create a temporary directory where to download the ilastik project"
   ]
  },
  {
   "cell_type": "code",
   "execution_count": 7,
   "metadata": {},
   "outputs": [],
   "source": [
    "path = tempfile.mkdtemp()\n",
    "if not os.path.exists(path):\n",
    "    os.makedirs(path)"
   ]
  },
  {
   "cell_type": "markdown",
   "metadata": {},
   "source": [
    "### Select the ilastik project to use."
   ]
  },
  {
   "cell_type": "code",
   "execution_count": 8,
   "metadata": {},
   "outputs": [
    {
     "data": {
      "application/vnd.jupyter.widget-view+json": {
       "model_id": "70f278124db844dcb2afc5c6cfb9ecb8",
       "version_major": 2,
       "version_minor": 0
      },
      "text/plain": [
       "Dropdown(options=(('pixel-class-133.ilp', '/tmp/tmpls3qqtte/pixel-class-133.ilp'),), value='/tmp/tmpls3qqtte/p…"
      ]
     },
     "metadata": {},
     "output_type": "display_data"
    }
   ],
   "source": [
    "model_selection = load_model(dataset_id, path)\n",
    "display(model_selection)"
   ]
  },
  {
   "cell_type": "markdown",
   "metadata": {},
   "source": [
    "### Load each image as an 5D-numpy array and analyze.\n",
    "Save the probabilities as Zarr zip and link it to the image."
   ]
  },
  {
   "cell_type": "code",
   "execution_count": 9,
   "metadata": {},
   "outputs": [
    {
     "name": "stdout",
     "output_type": "stream",
     "text": [
      "INFO ilastik_main: Starting ilastik from \"/srv/conda/envs/notebook\".\n"
     ]
    },
    {
     "name": "stderr",
     "output_type": "stream",
     "text": [
      "INFO:ilastik_main:Starting ilastik from \"/srv/conda/envs/notebook\".\n"
     ]
    },
    {
     "name": "stdout",
     "output_type": "stream",
     "text": [
      "Starting ilastik from \"/srv/conda/envs/notebook\".\n",
      "INFO ilastik_main: Resetting lazyflow thread pool with 2 threads.\n"
     ]
    },
    {
     "name": "stderr",
     "output_type": "stream",
     "text": [
      "INFO:ilastik_main:Resetting lazyflow thread pool with 2 threads.\n"
     ]
    },
    {
     "name": "stdout",
     "output_type": "stream",
     "text": [
      "INFO ilastik_main: Configuring lazyflow RAM limit to 2.0GiB\n"
     ]
    },
    {
     "name": "stderr",
     "output_type": "stream",
     "text": [
      "INFO:ilastik_main:Configuring lazyflow RAM limit to 2.0GiB\n"
     ]
    },
    {
     "name": "stdout",
     "output_type": "stream",
     "text": [
      "INFO lazyflow.utility.memory: Available memory set to 2.0GiB\n"
     ]
    },
    {
     "name": "stderr",
     "output_type": "stream",
     "text": [
      "INFO:lazyflow.utility.memory:Available memory set to 2.0GiB\n",
      "WARNING 2020-04-23 13:25:43,971 memory 93 139808389355328 User specified memory exceeds memory physically available. Please check theconfiguration.\n",
      "WARNING:lazyflow.utility.memory:User specified memory exceeds memory physically available. Please check theconfiguration.\n",
      "WARNING 2020-04-23 13:25:44,911 __init__ 93 139808389355328 Failed to automatic tracking workflow; check dependencies: libemon.so.1.3.1: cannot open shared object file: No such file or directory\n",
      "WARNING:ilastik.workflows.tracking.conservation:Failed to automatic tracking workflow; check dependencies: libemon.so.1.3.1: cannot open shared object file: No such file or directory\n",
      "WARNING 2020-04-23 13:25:44,916 __init__ 93 139808389355328 Failed to import automatic tracking workflow (conservation tracking). For this workflow, see the installationinstructions on our website ilastik.org; check dependencies: libemon.so.1.3.1: cannot open shared object file: No such file or directory\n",
      "WARNING:ilastik.workflows:Failed to import automatic tracking workflow (conservation tracking). For this workflow, see the installationinstructions on our website ilastik.org; check dependencies: libemon.so.1.3.1: cannot open shared object file: No such file or directory\n",
      "WARNING 2020-04-23 13:25:44,930 __init__ 93 139808389355328 Failed to import structured learning tracking workflow. For this workflow, see the installationinstructions on our website ilastik.org; check dependencies: libemon.so.1.3.1: cannot open shared object file: No such file or directory\n",
      "WARNING:ilastik.workflows:Failed to import structured learning tracking workflow. For this workflow, see the installationinstructions on our website ilastik.org; check dependencies: libemon.so.1.3.1: cannot open shared object file: No such file or directory\n"
     ]
    },
    {
     "name": "stdout",
     "output_type": "stream",
     "text": [
      "INFO ilastik.shell.projectManager: Opening Project: /tmp/tmpls3qqtte/pixel-class-133.ilp\n"
     ]
    },
    {
     "name": "stderr",
     "output_type": "stream",
     "text": [
      "INFO:ilastik.shell.projectManager:Opening Project: /tmp/tmpls3qqtte/pixel-class-133.ilp\n",
      "WARNING projectManager.py(158): H5pyDeprecationWarning: dataset.value has been deprecated. Use dataset[()] instead.\n",
      "WARNING projectManager.py(168): H5pyDeprecationWarning: dataset.value has been deprecated. Use dataset[()] instead.\n",
      "WARNING dataSelectionSerializer.py(385): H5pyDeprecationWarning: dataset.value has been deprecated. Use dataset[()] instead.\n",
      "WARNING featureSelectionSerializer.py(91): H5pyDeprecationWarning: dataset.value has been deprecated. Use dataset[()] instead.\n",
      "WARNING featureSelectionSerializer.py(96): H5pyDeprecationWarning: dataset.value has been deprecated. Use dataset[()] instead.\n",
      "WARNING featureSelectionSerializer.py(102): H5pyDeprecationWarning: dataset.value has been deprecated. Use dataset[()] instead.\n",
      "WARNING featureSelectionSerializer.py(122): H5pyDeprecationWarning: dataset.value has been deprecated. Use dataset[()] instead.\n",
      "WARNING opSimpleBlockedArrayCache.py(43): FutureWarning: Conversion of the second argument of issubdtype from `dtype` to `np.generic` is deprecated. In future, it will be treated as `np.object_ == np.dtype(dtype).type`.\n",
      "WARNING opSlicedBlockedArrayCache.py(141): FutureWarning: Conversion of the second argument of issubdtype from `dtype` to `np.generic` is deprecated. In future, it will be treated as `np.object_ == np.dtype(dtype).type`.\n",
      "WARNING featureSelectionSerializer.py(169): H5pyDeprecationWarning: dataset.value has been deprecated. Use dataset[()] instead.\n",
      "WARNING pixelClassificationSerializer.py(227): H5pyDeprecationWarning: dataset.value has been deprecated. Use dataset[()] instead.\n",
      "WARNING opSimpleBlockedArrayCache.py(43): FutureWarning: Conversion of the second argument of issubdtype from `dtype` to `np.generic` is deprecated. In future, it will be treated as `np.object_ == np.dtype(dtype).type`.\n",
      "WARNING opSlicedBlockedArrayCache.py(141): FutureWarning: Conversion of the second argument of issubdtype from `dtype` to `np.generic` is deprecated. In future, it will be treated as `np.object_ == np.dtype(dtype).type`.\n"
     ]
    },
    {
     "name": "stdout",
     "output_type": "stream",
     "text": [
      "running ilastik using /tmp/tmpls3qqtte/pixel-class-133.ilp and B1_C1.tif\n",
      "INFO ilastik.applets.batchProcessing.batchProcessingApplet: Exporting to in-memory array.\n"
     ]
    },
    {
     "name": "stderr",
     "output_type": "stream",
     "text": [
      "INFO:ilastik.applets.batchProcessing.batchProcessingApplet:Exporting to in-memory array.\n"
     ]
    },
    {
     "name": "stdout",
     "output_type": "stream",
     "text": [
      "INFO lazyflow.utility.bigRequestStreamer: Estimated RAM usage per pixel is 504.0B * safety factor (2.0)\n"
     ]
    },
    {
     "name": "stderr",
     "output_type": "stream",
     "text": [
      "INFO:lazyflow.utility.bigRequestStreamer:Estimated RAM usage per pixel is 504.0B * safety factor (2.0)\n"
     ]
    },
    {
     "name": "stdout",
     "output_type": "stream",
     "text": [
      "INFO lazyflow.utility.bigRequestStreamer: determining blockshape assuming available_ram is 1.5GiB, split between 2 threads\n"
     ]
    },
    {
     "name": "stderr",
     "output_type": "stream",
     "text": [
      "INFO:lazyflow.utility.bigRequestStreamer:determining blockshape assuming available_ram is 1.5GiB, split between 2 threads\n"
     ]
    },
    {
     "name": "stdout",
     "output_type": "stream",
     "text": [
      "INFO lazyflow.utility.bigRequestStreamer: Chose blockshape: (1, 92, 92, 92, 2)\n"
     ]
    },
    {
     "name": "stderr",
     "output_type": "stream",
     "text": [
      "INFO:lazyflow.utility.bigRequestStreamer:Chose blockshape: (1, 92, 92, 92, 2)\n"
     ]
    },
    {
     "name": "stdout",
     "output_type": "stream",
     "text": [
      "INFO lazyflow.utility.bigRequestStreamer: Estimated RAM usage per block is 748.6MiB\n"
     ]
    },
    {
     "name": "stderr",
     "output_type": "stream",
     "text": [
      "INFO:lazyflow.utility.bigRequestStreamer:Estimated RAM usage per block is 748.6MiB\n",
      "WARNING arraytypes.py(1263): FutureWarning: Using a non-tuple sequence for multidimensional indexing is deprecated; use `arr[tuple(seq)]` instead of `arr[seq]`. In the future this will be interpreted as an array index, `arr[np.array(seq)]`, which will result either in an error or a different result.\n",
      "WARNING arraytypes.py(1269): FutureWarning: Using a non-tuple sequence for multidimensional indexing is deprecated; use `arr[tuple(seq)]` instead of `arr[seq]`. In the future this will be interpreted as an array index, `arr[np.array(seq)]`, which will result either in an error or a different result.\n"
     ]
    },
    {
     "name": "stdout",
     "output_type": "stream",
     "text": [
      "DEBUG lazyflow.operators.classifierOperators: Features took 4.9675709999999995 seconds. Prediction took 1.519705 seconds. Subregion: start '[0, 0, 0, 0]' stop '[92, 92, 92, 2]'\n"
     ]
    },
    {
     "name": "stderr",
     "output_type": "stream",
     "text": [
      "DEBUG:lazyflow.operators.classifierOperators:Features took 4.9675709999999995 seconds. Prediction took 1.519705 seconds. Subregion: start '[0, 0, 0, 0]' stop '[92, 92, 92, 2]'\n"
     ]
    },
    {
     "name": "stdout",
     "output_type": "stream",
     "text": [
      "DEBUG lazyflow.operators.classifierOperators: Features took 7.403936 seconds. Prediction took 2.174423 seconds. Subregion: start '[0, 0, 92, 0]' stop '[92, 92, 184, 2]'\n"
     ]
    },
    {
     "name": "stderr",
     "output_type": "stream",
     "text": [
      "DEBUG:lazyflow.operators.classifierOperators:Features took 7.403936 seconds. Prediction took 2.174423 seconds. Subregion: start '[0, 0, 92, 0]' stop '[92, 92, 184, 2]'\n"
     ]
    },
    {
     "name": "stdout",
     "output_type": "stream",
     "text": [
      "DEBUG lazyflow.operators.classifierOperators: Features took 5.059426 seconds. Prediction took 2.570936 seconds. Subregion: start '[0, 0, 184, 0]' stop '[92, 92, 271, 2]'\n"
     ]
    },
    {
     "name": "stderr",
     "output_type": "stream",
     "text": [
      "DEBUG:lazyflow.operators.classifierOperators:Features took 5.059426 seconds. Prediction took 2.570936 seconds. Subregion: start '[0, 0, 184, 0]' stop '[92, 92, 271, 2]'\n"
     ]
    },
    {
     "name": "stdout",
     "output_type": "stream",
     "text": [
      "DEBUG lazyflow.operators.classifierOperators: Features took 7.73409 seconds. Prediction took 2.6676640000000003 seconds. Subregion: start '[0, 92, 0, 0]' stop '[92, 184, 92, 2]'\n"
     ]
    },
    {
     "name": "stderr",
     "output_type": "stream",
     "text": [
      "DEBUG:lazyflow.operators.classifierOperators:Features took 7.73409 seconds. Prediction took 2.6676640000000003 seconds. Subregion: start '[0, 92, 0, 0]' stop '[92, 184, 92, 2]'\n"
     ]
    },
    {
     "name": "stdout",
     "output_type": "stream",
     "text": [
      "DEBUG lazyflow.operators.classifierOperators: Features took 7.674993 seconds. Prediction took 2.406037 seconds. Subregion: start '[0, 92, 92, 0]' stop '[92, 184, 184, 2]'\n"
     ]
    },
    {
     "name": "stderr",
     "output_type": "stream",
     "text": [
      "DEBUG:lazyflow.operators.classifierOperators:Features took 7.674993 seconds. Prediction took 2.406037 seconds. Subregion: start '[0, 92, 92, 0]' stop '[92, 184, 184, 2]'\n"
     ]
    },
    {
     "name": "stdout",
     "output_type": "stream",
     "text": [
      "DEBUG lazyflow.operators.classifierOperators: Features took 5.956354 seconds. Prediction took 1.887383 seconds. Subregion: start '[0, 92, 184, 0]' stop '[92, 184, 271, 2]'\n"
     ]
    },
    {
     "name": "stderr",
     "output_type": "stream",
     "text": [
      "DEBUG:lazyflow.operators.classifierOperators:Features took 5.956354 seconds. Prediction took 1.887383 seconds. Subregion: start '[0, 92, 184, 0]' stop '[92, 184, 271, 2]'\n"
     ]
    },
    {
     "name": "stdout",
     "output_type": "stream",
     "text": [
      "DEBUG lazyflow.operators.classifierOperators: Features took 5.537561 seconds. Prediction took 1.5051269999999999 seconds. Subregion: start '[0, 184, 0, 0]' stop '[92, 275, 92, 2]'\n"
     ]
    },
    {
     "name": "stderr",
     "output_type": "stream",
     "text": [
      "DEBUG:lazyflow.operators.classifierOperators:Features took 5.537561 seconds. Prediction took 1.5051269999999999 seconds. Subregion: start '[0, 184, 0, 0]' stop '[92, 275, 92, 2]'\n"
     ]
    },
    {
     "name": "stdout",
     "output_type": "stream",
     "text": [
      "DEBUG lazyflow.operators.classifierOperators: Features took 4.787438 seconds. Prediction took 2.368087 seconds. Subregion: start '[0, 184, 92, 0]' stop '[92, 275, 184, 2]'\n"
     ]
    },
    {
     "name": "stderr",
     "output_type": "stream",
     "text": [
      "DEBUG:lazyflow.operators.classifierOperators:Features took 4.787438 seconds. Prediction took 2.368087 seconds. Subregion: start '[0, 184, 92, 0]' stop '[92, 275, 184, 2]'\n"
     ]
    },
    {
     "name": "stdout",
     "output_type": "stream",
     "text": [
      "DEBUG lazyflow.operators.classifierOperators: Features took 5.009752 seconds. Prediction took 2.790381 seconds. Subregion: start '[0, 184, 184, 0]' stop '[92, 275, 271, 2]'\n"
     ]
    },
    {
     "name": "stderr",
     "output_type": "stream",
     "text": [
      "DEBUG:lazyflow.operators.classifierOperators:Features took 5.009752 seconds. Prediction took 2.790381 seconds. Subregion: start '[0, 184, 184, 0]' stop '[92, 275, 271, 2]'\n"
     ]
    },
    {
     "name": "stdout",
     "output_type": "stream",
     "text": [
      "DEBUG lazyflow.operators.classifierOperators: Features took 6.158176 seconds. Prediction took 1.644015 seconds. Subregion: start '[92, 0, 0, 0]' stop '[184, 92, 92, 2]'\n"
     ]
    },
    {
     "name": "stderr",
     "output_type": "stream",
     "text": [
      "DEBUG:lazyflow.operators.classifierOperators:Features took 6.158176 seconds. Prediction took 1.644015 seconds. Subregion: start '[92, 0, 0, 0]' stop '[184, 92, 92, 2]'\n"
     ]
    },
    {
     "name": "stdout",
     "output_type": "stream",
     "text": [
      "DEBUG lazyflow.operators.classifierOperators: Features took 5.243583 seconds. Prediction took 2.82346 seconds. Subregion: start '[92, 0, 92, 0]' stop '[184, 92, 184, 2]'\n"
     ]
    },
    {
     "name": "stderr",
     "output_type": "stream",
     "text": [
      "DEBUG:lazyflow.operators.classifierOperators:Features took 5.243583 seconds. Prediction took 2.82346 seconds. Subregion: start '[92, 0, 92, 0]' stop '[184, 92, 184, 2]'\n"
     ]
    },
    {
     "name": "stdout",
     "output_type": "stream",
     "text": [
      "DEBUG lazyflow.operators.classifierOperators: Features took 5.655866 seconds. Prediction took 2.421693 seconds. Subregion: start '[92, 0, 184, 0]' stop '[184, 92, 271, 2]'\n"
     ]
    },
    {
     "name": "stderr",
     "output_type": "stream",
     "text": [
      "DEBUG:lazyflow.operators.classifierOperators:Features took 5.655866 seconds. Prediction took 2.421693 seconds. Subregion: start '[92, 0, 184, 0]' stop '[184, 92, 271, 2]'\n"
     ]
    },
    {
     "name": "stdout",
     "output_type": "stream",
     "text": [
      "DEBUG lazyflow.operators.classifierOperators: Features took 5.918561 seconds. Prediction took 2.903582 seconds. Subregion: start '[92, 92, 0, 0]' stop '[184, 184, 92, 2]'\n"
     ]
    },
    {
     "name": "stderr",
     "output_type": "stream",
     "text": [
      "DEBUG:lazyflow.operators.classifierOperators:Features took 5.918561 seconds. Prediction took 2.903582 seconds. Subregion: start '[92, 92, 0, 0]' stop '[184, 184, 92, 2]'\n"
     ]
    },
    {
     "name": "stdout",
     "output_type": "stream",
     "text": [
      "DEBUG lazyflow.operators.classifierOperators: Features took 6.228709 seconds. Prediction took 2.5402519999999997 seconds. Subregion: start '[92, 92, 92, 0]' stop '[184, 184, 184, 2]'\n"
     ]
    },
    {
     "name": "stderr",
     "output_type": "stream",
     "text": [
      "DEBUG:lazyflow.operators.classifierOperators:Features took 6.228709 seconds. Prediction took 2.5402519999999997 seconds. Subregion: start '[92, 92, 92, 0]' stop '[184, 184, 184, 2]'\n"
     ]
    },
    {
     "name": "stdout",
     "output_type": "stream",
     "text": [
      "DEBUG lazyflow.operators.classifierOperators: Features took 6.104586 seconds. Prediction took 2.19266 seconds. Subregion: start '[92, 92, 184, 0]' stop '[184, 184, 271, 2]'\n"
     ]
    },
    {
     "name": "stderr",
     "output_type": "stream",
     "text": [
      "DEBUG:lazyflow.operators.classifierOperators:Features took 6.104586 seconds. Prediction took 2.19266 seconds. Subregion: start '[92, 92, 184, 0]' stop '[184, 184, 271, 2]'\n"
     ]
    },
    {
     "name": "stdout",
     "output_type": "stream",
     "text": [
      "DEBUG lazyflow.operators.classifierOperators: Features took 4.982957 seconds. Prediction took 2.765483 seconds. Subregion: start '[92, 184, 0, 0]' stop '[184, 275, 92, 2]'\n"
     ]
    },
    {
     "name": "stderr",
     "output_type": "stream",
     "text": [
      "DEBUG:lazyflow.operators.classifierOperators:Features took 4.982957 seconds. Prediction took 2.765483 seconds. Subregion: start '[92, 184, 0, 0]' stop '[184, 275, 92, 2]'\n"
     ]
    },
    {
     "name": "stdout",
     "output_type": "stream",
     "text": [
      "DEBUG lazyflow.operators.classifierOperators: Features took 6.726656 seconds. Prediction took 1.536621 seconds. Subregion: start '[92, 184, 92, 0]' stop '[184, 275, 184, 2]'\n"
     ]
    },
    {
     "name": "stderr",
     "output_type": "stream",
     "text": [
      "DEBUG:lazyflow.operators.classifierOperators:Features took 6.726656 seconds. Prediction took 1.536621 seconds. Subregion: start '[92, 184, 92, 0]' stop '[184, 275, 184, 2]'\n"
     ]
    },
    {
     "name": "stdout",
     "output_type": "stream",
     "text": [
      "DEBUG lazyflow.operators.classifierOperators: Features took 5.940398 seconds. Prediction took 1.542276 seconds. Subregion: start '[92, 184, 184, 0]' stop '[184, 275, 271, 2]'\n"
     ]
    },
    {
     "name": "stderr",
     "output_type": "stream",
     "text": [
      "DEBUG:lazyflow.operators.classifierOperators:Features took 5.940398 seconds. Prediction took 1.542276 seconds. Subregion: start '[92, 184, 184, 0]' stop '[184, 275, 271, 2]'\n"
     ]
    },
    {
     "name": "stdout",
     "output_type": "stream",
     "text": [
      "DEBUG lazyflow.operators.classifierOperators: Features took 3.246088 seconds. Prediction took 1.439888 seconds. Subregion: start '[184, 0, 0, 0]' stop '[236, 92, 92, 2]'\n"
     ]
    },
    {
     "name": "stderr",
     "output_type": "stream",
     "text": [
      "DEBUG:lazyflow.operators.classifierOperators:Features took 3.246088 seconds. Prediction took 1.439888 seconds. Subregion: start '[184, 0, 0, 0]' stop '[236, 92, 92, 2]'\n"
     ]
    },
    {
     "name": "stdout",
     "output_type": "stream",
     "text": [
      "DEBUG lazyflow.operators.classifierOperators: Features took 2.973769 seconds. Prediction took 0.924805 seconds. Subregion: start '[184, 0, 92, 0]' stop '[236, 92, 184, 2]'\n"
     ]
    },
    {
     "name": "stderr",
     "output_type": "stream",
     "text": [
      "DEBUG:lazyflow.operators.classifierOperators:Features took 2.973769 seconds. Prediction took 0.924805 seconds. Subregion: start '[184, 0, 92, 0]' stop '[236, 92, 184, 2]'\n"
     ]
    },
    {
     "name": "stdout",
     "output_type": "stream",
     "text": [
      "DEBUG lazyflow.operators.classifierOperators: Features took 2.655784 seconds. Prediction took 1.258764 seconds. Subregion: start '[184, 0, 184, 0]' stop '[236, 92, 271, 2]'\n"
     ]
    },
    {
     "name": "stderr",
     "output_type": "stream",
     "text": [
      "DEBUG:lazyflow.operators.classifierOperators:Features took 2.655784 seconds. Prediction took 1.258764 seconds. Subregion: start '[184, 0, 184, 0]' stop '[236, 92, 271, 2]'\n"
     ]
    },
    {
     "name": "stdout",
     "output_type": "stream",
     "text": [
      "DEBUG lazyflow.operators.classifierOperators: Features took 2.769764 seconds. Prediction took 1.914761 seconds. Subregion: start '[184, 92, 0, 0]' stop '[236, 184, 92, 2]'\n"
     ]
    },
    {
     "name": "stderr",
     "output_type": "stream",
     "text": [
      "DEBUG:lazyflow.operators.classifierOperators:Features took 2.769764 seconds. Prediction took 1.914761 seconds. Subregion: start '[184, 92, 0, 0]' stop '[236, 184, 92, 2]'\n"
     ]
    },
    {
     "name": "stdout",
     "output_type": "stream",
     "text": [
      "DEBUG lazyflow.operators.classifierOperators: Features took 3.999234 seconds. Prediction took 0.957752 seconds. Subregion: start '[184, 92, 92, 0]' stop '[236, 184, 184, 2]'\n"
     ]
    },
    {
     "name": "stderr",
     "output_type": "stream",
     "text": [
      "DEBUG:lazyflow.operators.classifierOperators:Features took 3.999234 seconds. Prediction took 0.957752 seconds. Subregion: start '[184, 92, 92, 0]' stop '[236, 184, 184, 2]'\n"
     ]
    },
    {
     "name": "stdout",
     "output_type": "stream",
     "text": [
      "DEBUG lazyflow.operators.classifierOperators: Features took 2.687346 seconds. Prediction took 1.687827 seconds. Subregion: start '[184, 92, 184, 0]' stop '[236, 184, 271, 2]'\n"
     ]
    },
    {
     "name": "stderr",
     "output_type": "stream",
     "text": [
      "DEBUG:lazyflow.operators.classifierOperators:Features took 2.687346 seconds. Prediction took 1.687827 seconds. Subregion: start '[184, 92, 184, 0]' stop '[236, 184, 271, 2]'\n"
     ]
    },
    {
     "name": "stdout",
     "output_type": "stream",
     "text": [
      "DEBUG lazyflow.operators.classifierOperators: Features took 3.366538 seconds. Prediction took 0.891653 seconds. Subregion: start '[184, 184, 0, 0]' stop '[236, 275, 92, 2]'\n"
     ]
    },
    {
     "name": "stderr",
     "output_type": "stream",
     "text": [
      "DEBUG:lazyflow.operators.classifierOperators:Features took 3.366538 seconds. Prediction took 0.891653 seconds. Subregion: start '[184, 184, 0, 0]' stop '[236, 275, 92, 2]'\n"
     ]
    },
    {
     "name": "stdout",
     "output_type": "stream",
     "text": [
      "DEBUG lazyflow.operators.classifierOperators: Features took 2.5876419999999998 seconds. Prediction took 1.587645 seconds. Subregion: start '[184, 184, 92, 0]' stop '[236, 275, 184, 2]'\n"
     ]
    },
    {
     "name": "stderr",
     "output_type": "stream",
     "text": [
      "DEBUG:lazyflow.operators.classifierOperators:Features took 2.5876419999999998 seconds. Prediction took 1.587645 seconds. Subregion: start '[184, 184, 92, 0]' stop '[236, 275, 184, 2]'\n"
     ]
    },
    {
     "name": "stdout",
     "output_type": "stream",
     "text": [
      "DEBUG lazyflow.operators.classifierOperators: Features took 2.8022489999999998 seconds. Prediction took 0.771276 seconds. Subregion: start '[184, 184, 184, 0]' stop '[236, 275, 271, 2]'\n"
     ]
    },
    {
     "name": "stderr",
     "output_type": "stream",
     "text": [
      "DEBUG:lazyflow.operators.classifierOperators:Features took 2.8022489999999998 seconds. Prediction took 0.771276 seconds. Subregion: start '[184, 184, 184, 0]' stop '[236, 275, 271, 2]'\n"
     ]
    },
    {
     "name": "stdout",
     "output_type": "stream",
     "text": [
      "Saving Probabilities as zip attached to the Image in OMERO\n",
      "done\n"
     ]
    }
   ],
   "source": [
    "# Load the model linked to the dataset\n",
    "model_file = model_selection.value\n",
    "\n",
    "\n",
    "images = conn.getObjects('Image', opts={'dataset': dataset_id})\n",
    "\n",
    "# Create a new dataset where to upload the generated images\n",
    "dataset_obj = omero.model.DatasetI()\n",
    "v = \"ilastik_probabilities_from_dataset_%s\" % dataset_id\n",
    "dataset_obj.setName(omero.rtypes.rstring(v))\n",
    "v = \"ilatisk results probabilities from Dataset:%s\" % dataset_id\n",
    "dataset_obj.setDescription(omero.rtypes.rstring(v))\n",
    "dataset_obj = conn.getUpdateService().saveAndReturnObject(dataset_obj)\n",
    "\n",
    "# Prepare ilastik\n",
    "os.environ[\"LAZYFLOW_THREADS\"] = \"2\"\n",
    "os.environ[\"LAZYFLOW_TOTAL_RAM_MB\"] = \"2000\"\n",
    "args = ilastik_main.parse_args([])\n",
    "args.headless = True\n",
    "args.project = model_file\n",
    "shell = ilastik_main.main(args)\n",
    "\n",
    "values = itertools.islice(images, 2)\n",
    "for image in values:\n",
    "    filename, file_extension = os.path.splitext(image.getName())\n",
    "    input_data = load_from_s3(image)\n",
    "\n",
    "    # run ilastik headless\n",
    "    print('running ilastik using %s and %s' % (model_file, image.getName()))\n",
    "    role_data_dict = OrderedDict(\n",
    "    [\n",
    "        (\n",
    "            \"Raw Data\",\n",
    "            [\n",
    "                PreloadedArrayDatasetInfo(preloaded_array=input_data)\n",
    "            ],\n",
    "        )\n",
    "    ])\n",
    "\n",
    "    predictions = shell.workflow.batchProcessingApplet.run_export(role_data_dict, export_to_array=True)\n",
    "    # Save the probabilities file to the image\n",
    "    print(\"Saving Probabilities as zip attached to the Image in OMERO\")\n",
    "    namespace = \"ilastik.zarr.demo\"\n",
    "    name = filename + \"_Probabilities_zarr.zip\"\n",
    "    desc = \"ilastik probabilities from Image:%s\" % image.getId()\n",
    "    for data in predictions:\n",
    "        file_path = os.path.join(path, name)\n",
    "        # Re-organise array from tzyxc to zctyx order expected by OMERO\n",
    "        data = data.swapaxes(0, 1).swapaxes(3, 4).swapaxes(2, 3).swapaxes(1, 2)\n",
    "        with zarr.ZipStore(file_path, mode='w') as store:\n",
    "            zarr.array(data, store=store, dtype='int16', compressor=zarr.Blosc(cname='zstd'))\n",
    "        ann = conn.createFileAnnfromLocalFile(file_path, mimetype=\"application/zip\", ns=namespace, desc=desc)\n",
    "        image.linkAnnotation(ann)\n",
    "print(\"done\")"
   ]
  },
  {
   "cell_type": "markdown",
   "metadata": {},
   "source": [
    "### Load the results saved as zip and read the data for further analysis."
   ]
  },
  {
   "cell_type": "code",
   "execution_count": 10,
   "metadata": {},
   "outputs": [
    {
     "data": {
      "image/png": "[encoded data removed]",
      "text/plain": [
       "<Figure size 1296x1152 with 2 Axes>"
      ]
     },
     "metadata": {},
     "output_type": "display_data"
    }
   ],
   "source": [
    "images = conn.getObjects('Image', opts={'dataset': dataset_id})\n",
    "for image in images:\n",
    "    # order zctyx\n",
    "    data = load_data(image, path)\n",
    "    size_c = data.shape[1]\n",
    "    mid_z = numpy.int(0.5*data.shape[0])\n",
    "    fig, ax = plt.subplots(1, size_c, figsize=(18,16), dpi=72, facecolor='w', edgecolor='k')\n",
    "    if size_c > 1:\n",
    "        for channel in range(size_c):\n",
    "            ax[channel].axis('off')\n",
    "            ax[channel].imshow(data[mid_z, channel, 0, :, :], cmap=plt.cm.gray)\n",
    "    else:\n",
    "        ax.axis('off')\n",
    "        ax.imshow(data[mid_z, channel, 0, :, :], cmap=plt.cm.gray)\n",
    "    "
   ]
  },
  {
   "cell_type": "markdown",
   "metadata": {},
   "source": [
    "### Close the connection to the OMERO server"
   ]
  },
  {
   "cell_type": "code",
   "execution_count": 10,
   "metadata": {},
   "outputs": [],
   "source": [
    "conn.close()"
   ]
  },
  {
   "cell_type": "markdown",
   "metadata": {
    "collapsed": true
   },
   "source": [
    "### License\n",
    "Copyright (C) 2019-2020 University of Dundee. All Rights Reserved.\n",
    "This program is free software; you can redistribute it and/or modify it\n",
    "under the terms of the GNU General Public License as published by the\n",
    "Free Software Foundation; either version 2 of the License, or\n",
    "(at your option) any later version.\n",
    "This program is distributed in the hope that it will be useful, but\n",
    "WITHOUT ANY WARRANTY; without even the implied warranty of MERCHANTABILITY\n",
    "or FITNESS FOR A PARTICULAR PURPOSE. See the GNU General Public License for\n",
    "more details. You should have received a copy of the GNU General\n",
    "Public License along with this program; if not, write to the\n",
    "Free Software Foundation,\n",
    "Inc., 51 Franklin Street, Fifth Floor, Boston, MA 02110-1301 USA."
   ]
  }
 ],
 "metadata": {
  "kernelspec": {
   "display_name": "Python 3",
   "language": "python",
   "name": "python3"
  },
  "language_info": {
   "codemirror_mode": {
    "name": "ipython",
    "version": 3
   },
   "file_extension": ".py",
   "mimetype": "text/x-python",
   "name": "python",
   "nbconvert_exporter": "python",
   "pygments_lexer": "ipython3",
   "version": "3.7.6"
  },
  "toc": {
   "base_numbering": 1,
   "nav_menu": {},
   "number_sections": false,
   "sideBar": false,
   "skip_h1_title": false,
   "title_cell": "Table of Contents",
   "title_sidebar": "Contents",
   "toc_cell": false,
   "toc_position": {},
   "toc_section_display": false,
   "toc_window_display": false
  }
 },
 "nbformat": 4,
 "nbformat_minor": 2
}

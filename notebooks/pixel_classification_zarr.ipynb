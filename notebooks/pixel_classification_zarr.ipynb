{
 "cells": [
  {
   "cell_type": "markdown",
   "metadata": {},
   "source": [
    "# Analyze data using ilastik\n",
    "The notebook shows how load image contained in a dataset\n",
    "from OMERO and analyze them in ilastik.\n",
    "It assumes that ilastik project is linked to the dataset.\n",
    "The images are taken from  the paper \"NesSys: a novel method for accurate nuclear segmentation in 3D\" published August 2019 in PLOS Biology: https://doi.org/10.1371/journal.pbio.3000388\n",
    "\n",
    "The images can be viewed online in the [Image Data Resource](https://idr.openmicroscopy.org/webclient/?show=project-801).\n",
    "\n",
    "The metadata are read from OMERO and the Binary data are read from S3.\n",
    "The ilastik results are saved as a zarr file and saved back to OMERO.\n",
    "The order might need to be adjusted depending on the ilastik project."
   ]
  },
  {
   "cell_type": "markdown",
   "metadata": {},
   "source": [
    "### Insert required packages"
   ]
  },
  {
   "cell_type": "code",
   "execution_count": 1,
   "metadata": {},
   "outputs": [
    {
     "name": "stderr",
     "output_type": "stream",
     "text": [
      "/srv/conda/envs/notebook/lib/python3.7/site-packages/skimage/io/manage_plugins.py:23: UserWarning: Your installed pillow version is < 7.1.0. Several security issues (CVE-2020-11538, CVE-2020-10379, CVE-2020-10994, CVE-2020-10177) have been fixed in pillow 7.1.0 or higher. We recommend to upgrade this library.\n",
      "  from .collection import imread_collection_wrapper\n"
     ]
    }
   ],
   "source": [
    "import numpy\n",
    "import os\n",
    "import itertools\n",
    "import zarr\n",
    "import dask.array as da\n",
    "\n",
    "import tempfile\n",
    "\n",
    "import omero.clients\n",
    "from omero.gateway import BlitzGateway\n",
    "from getpass import getpass\n",
    "\n",
    "from ilastik import app\n",
    "from ilastik.applets.dataSelection.opDataSelection import PreloadedArrayDatasetInfo\n",
    "import vigra\n",
    "import ipywidgets as widgets\n",
    "# package for 3d visualization\n",
    "from itkwidgets import view"
   ]
  },
  {
   "cell_type": "markdown",
   "metadata": {},
   "source": [
    "### Create a connection to an OMERO server"
   ]
  },
  {
   "cell_type": "code",
   "execution_count": 2,
   "metadata": {},
   "outputs": [
    {
     "name": "stdout",
     "output_type": "stream",
     "text": [
      "Username: trainer-1\n",
      "OMERO Password: ········\n",
      "True\n"
     ]
    }
   ],
   "source": [
    "HOST = 'wss://outreach.openmicroscopy.org/omero-ws'\n",
    "conn = BlitzGateway(input(\"Username: \"),\n",
    "                    getpass(\"OMERO Password: \"),\n",
    "                    host=HOST, secure=True)\n",
    "print(conn.connect())\n",
    "conn.c.enableKeepAlive(60)"
   ]
  },
  {
   "cell_type": "markdown",
   "metadata": {},
   "source": [
    "### Enter the dataset ID"
   ]
  },
  {
   "cell_type": "code",
   "execution_count": 3,
   "metadata": {},
   "outputs": [],
   "source": [
    "dataset_id = 6161"
   ]
  },
  {
   "cell_type": "markdown",
   "metadata": {},
   "source": [
    "### Load the ilastik projects linked to the dataset"
   ]
  },
  {
   "cell_type": "code",
   "execution_count": 4,
   "metadata": {},
   "outputs": [],
   "source": [
    "def load_model(dataset_id, path):\n",
    "    dataset = conn.getObject(\"Dataset\", dataset_id)\n",
    "    # Go through all the annotations on the Dataset\n",
    "    options = []\n",
    "    for ann in dataset.listAnnotations():\n",
    "        if isinstance(ann, omero.gateway.FileAnnotationWrapper):\n",
    "            name = ann.getFile().getName()\n",
    "            # Select the ilatisk project TODO: use namespace\n",
    "            if name.endswith(\".ilp\"):\n",
    "                file_path = os.path.join(path, name)\n",
    "                options.append((name, file_path))\n",
    "                with open(str(file_path), 'wb') as f:\n",
    "                    for chunk in ann.getFileInChunks():\n",
    "                        f.write(chunk)\n",
    "    return widgets.Dropdown(options=options, disabled=False)"
   ]
  },
  {
   "cell_type": "markdown",
   "metadata": {},
   "source": [
    "### Load an Image as 5D-numpy array: order TZYXC"
   ]
  },
  {
   "cell_type": "code",
   "execution_count": 5,
   "metadata": {},
   "outputs": [],
   "source": [
    "def load_from_s3(image, resolution='0'):\n",
    "    id = image.getId()\n",
    "    endpoint_url = 'https://minio-dev.openmicroscopy.org/'\n",
    "    root = 'idr/outreach/%s.zarr/' % id\n",
    "    # data.shape is (t, c, z, y, x) by convention\n",
    "    data = da.from_zarr(endpoint_url + root)\n",
    "    values = data[:]\n",
    "    values = values.swapaxes(1, 2).swapaxes(2, 3).swapaxes(3, 4)\n",
    "    return numpy.asarray(values)"
   ]
  },
  {
   "cell_type": "markdown",
   "metadata": {},
   "source": [
    "### Create a temporary directory where to download the ilastik project"
   ]
  },
  {
   "cell_type": "code",
   "execution_count": 6,
   "metadata": {},
   "outputs": [],
   "source": [
    "path = tempfile.mkdtemp()\n",
    "if not os.path.exists(path):\n",
    "    os.makedirs(path)"
   ]
  },
  {
   "cell_type": "markdown",
   "metadata": {},
   "source": [
    "### Select the ilastik project to use."
   ]
  },
  {
   "cell_type": "code",
   "execution_count": 7,
   "metadata": {},
   "outputs": [
    {
     "data": {
      "application/vnd.jupyter.widget-view+json": {
       "model_id": "4bca768caa174a4cac7c390a06c587cf",
       "version_major": 2,
       "version_minor": 0
      },
      "text/plain": [
       "Dropdown(options=(('pixel-class-133.ilp', '/tmp/tmpn4hz7v8z/pixel-class-133.ilp'),), value='/tmp/tmpn4hz7v8z/p…"
      ]
     },
     "metadata": {},
     "output_type": "display_data"
    }
   ],
   "source": [
    "model_selection = load_model(dataset_id, path)\n",
    "display(model_selection)"
   ]
  },
  {
   "cell_type": "markdown",
   "metadata": {},
   "source": [
    "### Load each image as a 5D-numpy array and analyze."
   ]
  },
  {
   "cell_type": "code",
   "execution_count": null,
   "metadata": {},
   "outputs": [
    {
     "name": "stdout",
     "output_type": "stream",
     "text": [
      "INFO ilastik.app: config file location: <none>\n"
     ]
    },
    {
     "name": "stderr",
     "output_type": "stream",
     "text": [
      "INFO:ilastik.app:config file location: <none>\n"
     ]
    },
    {
     "name": "stdout",
     "output_type": "stream",
     "text": [
      "INFO ilastik.app: Starting ilastik from \"/srv/conda/envs/notebook/ilastik-meta\".\n"
     ]
    },
    {
     "name": "stderr",
     "output_type": "stream",
     "text": [
      "INFO:ilastik.app:Starting ilastik from \"/srv/conda/envs/notebook/ilastik-meta\".\n"
     ]
    },
    {
     "name": "stdout",
     "output_type": "stream",
     "text": [
      "Starting ilastik from \"/srv/conda/envs/notebook/ilastik-meta\".\n",
      "INFO ilastik.app: Resetting lazyflow thread pool with 2 threads.\n"
     ]
    },
    {
     "name": "stderr",
     "output_type": "stream",
     "text": [
      "INFO:ilastik.app:Resetting lazyflow thread pool with 2 threads.\n"
     ]
    },
    {
     "name": "stdout",
     "output_type": "stream",
     "text": [
      "INFO ilastik.app: Configuring lazyflow RAM limit to 2.0GiB\n"
     ]
    },
    {
     "name": "stderr",
     "output_type": "stream",
     "text": [
      "INFO:ilastik.app:Configuring lazyflow RAM limit to 2.0GiB\n"
     ]
    },
    {
     "name": "stdout",
     "output_type": "stream",
     "text": [
      "INFO lazyflow.utility.memory: Available memory set to 2.0GiB\n"
     ]
    },
    {
     "name": "stderr",
     "output_type": "stream",
     "text": [
      "INFO:lazyflow.utility.memory:Available memory set to 2.0GiB\n",
      "WARNING 2021-04-29 13:22:00,345 memory 96 140209071396672 User specified memory exceeds memory physically available. Please check the configuration.\n",
      "WARNING:lazyflow.utility.memory:User specified memory exceeds memory physically available. Please check the configuration.\n",
      "WARNING 2021-04-29 13:22:01,642 opConservationTracking 96 140209071396672 Could not find any ILP solver\n",
      "WARNING:ilastik.applets.tracking.conservation.opConservationTracking:Could not find any ILP solver\n",
      "WARNING 2021-04-29 13:22:01,680 opStructuredTracking 96 140209071396672 Could not find any ILP solver\n",
      "WARNING:ilastik.applets.tracking.structured.opStructuredTracking:Could not find any ILP solver\n",
      "WARNING 2021-04-29 13:22:01,688 structuredTrackingWorkflow 96 140209071396672 Could not find any learning solver. Tracking will use flow-based solver (DPCT). Learning for tracking will be disabled!\n",
      "WARNING:ilastik.workflows.tracking.structured.structuredTrackingWorkflow:Could not find any learning solver. Tracking will use flow-based solver (DPCT). Learning for tracking will be disabled!\n"
     ]
    },
    {
     "name": "stdout",
     "output_type": "stream",
     "text": [
      "INFO ilastik.shell.projectManager: Opening Project: /tmp/tmpn4hz7v8z/pixel-class-133.ilp\n"
     ]
    },
    {
     "name": "stderr",
     "output_type": "stream",
     "text": [
      "INFO:ilastik.shell.projectManager:Opening Project: /tmp/tmpn4hz7v8z/pixel-class-133.ilp\n",
      "WARNING opSimpleBlockedArrayCache.py(43): FutureWarning: Conversion of the second argument of issubdtype from `dtype` to `np.generic` is deprecated. In future, it will be treated as `np.object_ == np.dtype(dtype).type`.\n",
      "WARNING opSlicedBlockedArrayCache.py(141): FutureWarning: Conversion of the second argument of issubdtype from `dtype` to `np.generic` is deprecated. In future, it will be treated as `np.object_ == np.dtype(dtype).type`.\n",
      "WARNING opSimpleBlockedArrayCache.py(43): FutureWarning: Conversion of the second argument of issubdtype from `dtype` to `np.generic` is deprecated. In future, it will be treated as `np.object_ == np.dtype(dtype).type`.\n",
      "WARNING opSlicedBlockedArrayCache.py(141): FutureWarning: Conversion of the second argument of issubdtype from `dtype` to `np.generic` is deprecated. In future, it will be treated as `np.object_ == np.dtype(dtype).type`.\n"
     ]
    },
    {
     "name": "stdout",
     "output_type": "stream",
     "text": [
      "running ilastik using /tmp/tmpn4hz7v8z/pixel-class-133.ilp and B3.tif\n",
      "INFO ilastik.applets.batchProcessing.batchProcessingApplet: Exporting to in-memory array.\n"
     ]
    },
    {
     "name": "stderr",
     "output_type": "stream",
     "text": [
      "INFO:ilastik.applets.batchProcessing.batchProcessingApplet:Exporting to in-memory array.\n"
     ]
    },
    {
     "name": "stdout",
     "output_type": "stream",
     "text": [
      "INFO lazyflow.utility.bigRequestStreamer: Estimated RAM usage per pixel is 504.0B * safety factor (2.0)\n"
     ]
    },
    {
     "name": "stderr",
     "output_type": "stream",
     "text": [
      "INFO:lazyflow.utility.bigRequestStreamer:Estimated RAM usage per pixel is 504.0B * safety factor (2.0)\n"
     ]
    },
    {
     "name": "stdout",
     "output_type": "stream",
     "text": [
      "INFO lazyflow.utility.bigRequestStreamer: determining blockshape assuming available_ram is 1.5GiB, split between 2 threads\n"
     ]
    },
    {
     "name": "stderr",
     "output_type": "stream",
     "text": [
      "INFO:lazyflow.utility.bigRequestStreamer:determining blockshape assuming available_ram is 1.5GiB, split between 2 threads\n"
     ]
    },
    {
     "name": "stdout",
     "output_type": "stream",
     "text": [
      "INFO lazyflow.utility.bigRequestStreamer: Chose blockshape: (1, 92, 92, 92, 2)\n"
     ]
    },
    {
     "name": "stderr",
     "output_type": "stream",
     "text": [
      "INFO:lazyflow.utility.bigRequestStreamer:Chose blockshape: (1, 92, 92, 92, 2)\n"
     ]
    },
    {
     "name": "stdout",
     "output_type": "stream",
     "text": [
      "INFO lazyflow.utility.bigRequestStreamer: Estimated RAM usage per block is 748.6MiB\n"
     ]
    },
    {
     "name": "stderr",
     "output_type": "stream",
     "text": [
      "INFO:lazyflow.utility.bigRequestStreamer:Estimated RAM usage per block is 748.6MiB\n",
      "WARNING arraytypes.py(1263): FutureWarning: Using a non-tuple sequence for multidimensional indexing is deprecated; use `arr[tuple(seq)]` instead of `arr[seq]`. In the future this will be interpreted as an array index, `arr[np.array(seq)]`, which will result either in an error or a different result.\n",
      "WARNING arraytypes.py(1269): FutureWarning: Using a non-tuple sequence for multidimensional indexing is deprecated; use `arr[tuple(seq)]` instead of `arr[seq]`. In the future this will be interpreted as an array index, `arr[np.array(seq)]`, which will result either in an error or a different result.\n"
     ]
    },
    {
     "name": "stdout",
     "output_type": "stream",
     "text": [
      "DEBUG lazyflow.operators.classifierOperators: Features took 8.02448 seconds. Prediction took 2.351964 seconds. Subregion: start '[0, 0, 0, 0]' stop '[92, 92, 92, 2]'\n"
     ]
    },
    {
     "name": "stderr",
     "output_type": "stream",
     "text": [
      "DEBUG:lazyflow.operators.classifierOperators:Features took 8.02448 seconds. Prediction took 2.351964 seconds. Subregion: start '[0, 0, 0, 0]' stop '[92, 92, 92, 2]'\n"
     ]
    },
    {
     "name": "stdout",
     "output_type": "stream",
     "text": [
      "DEBUG lazyflow.operators.classifierOperators: Features took 11.557896 seconds. Prediction took 3.132804 seconds. Subregion: start '[0, 0, 92, 0]' stop '[92, 92, 184, 2]'\n"
     ]
    },
    {
     "name": "stderr",
     "output_type": "stream",
     "text": [
      "DEBUG:lazyflow.operators.classifierOperators:Features took 11.557896 seconds. Prediction took 3.132804 seconds. Subregion: start '[0, 0, 92, 0]' stop '[92, 92, 184, 2]'\n"
     ]
    },
    {
     "name": "stdout",
     "output_type": "stream",
     "text": [
      "DEBUG lazyflow.operators.classifierOperators: Features took 6.803389 seconds. Prediction took 2.449849 seconds. Subregion: start '[0, 0, 184, 0]' stop '[92, 92, 276, 2]'\n"
     ]
    },
    {
     "name": "stderr",
     "output_type": "stream",
     "text": [
      "DEBUG:lazyflow.operators.classifierOperators:Features took 6.803389 seconds. Prediction took 2.449849 seconds. Subregion: start '[0, 0, 184, 0]' stop '[92, 92, 276, 2]'\n"
     ]
    },
    {
     "name": "stdout",
     "output_type": "stream",
     "text": [
      "DEBUG lazyflow.operators.classifierOperators: Features took 5.875431 seconds. Prediction took 2.285564 seconds. Subregion: start '[0, 0, 276, 0]' stop '[92, 92, 325, 2]'\n"
     ]
    },
    {
     "name": "stderr",
     "output_type": "stream",
     "text": [
      "DEBUG:lazyflow.operators.classifierOperators:Features took 5.875431 seconds. Prediction took 2.285564 seconds. Subregion: start '[0, 0, 276, 0]' stop '[92, 92, 325, 2]'\n"
     ]
    },
    {
     "name": "stdout",
     "output_type": "stream",
     "text": [
      "DEBUG lazyflow.operators.classifierOperators: Features took 6.58897 seconds. Prediction took 3.196506 seconds. Subregion: start '[0, 92, 0, 0]' stop '[92, 184, 92, 2]'\n"
     ]
    },
    {
     "name": "stderr",
     "output_type": "stream",
     "text": [
      "DEBUG:lazyflow.operators.classifierOperators:Features took 6.58897 seconds. Prediction took 3.196506 seconds. Subregion: start '[0, 92, 0, 0]' stop '[92, 184, 92, 2]'\n"
     ]
    },
    {
     "name": "stdout",
     "output_type": "stream",
     "text": [
      "DEBUG lazyflow.operators.classifierOperators: Features took 8.232123 seconds. Prediction took 3.861248 seconds. Subregion: start '[0, 92, 92, 0]' stop '[92, 184, 184, 2]'\n"
     ]
    },
    {
     "name": "stderr",
     "output_type": "stream",
     "text": [
      "DEBUG:lazyflow.operators.classifierOperators:Features took 8.232123 seconds. Prediction took 3.861248 seconds. Subregion: start '[0, 92, 92, 0]' stop '[92, 184, 184, 2]'\n"
     ]
    },
    {
     "name": "stdout",
     "output_type": "stream",
     "text": [
      "DEBUG lazyflow.operators.classifierOperators: Features took 7.112726 seconds. Prediction took 2.729605 seconds. Subregion: start '[0, 92, 184, 0]' stop '[92, 184, 276, 2]'\n"
     ]
    },
    {
     "name": "stderr",
     "output_type": "stream",
     "text": [
      "DEBUG:lazyflow.operators.classifierOperators:Features took 7.112726 seconds. Prediction took 2.729605 seconds. Subregion: start '[0, 92, 184, 0]' stop '[92, 184, 276, 2]'\n"
     ]
    },
    {
     "name": "stdout",
     "output_type": "stream",
     "text": [
      "DEBUG lazyflow.operators.classifierOperators: Features took 6.069309 seconds. Prediction took 2.700557 seconds. Subregion: start '[0, 92, 276, 0]' stop '[92, 184, 325, 2]'\n"
     ]
    },
    {
     "name": "stderr",
     "output_type": "stream",
     "text": [
      "DEBUG:lazyflow.operators.classifierOperators:Features took 6.069309 seconds. Prediction took 2.700557 seconds. Subregion: start '[0, 92, 276, 0]' stop '[92, 184, 325, 2]'\n"
     ]
    },
    {
     "name": "stdout",
     "output_type": "stream",
     "text": [
      "DEBUG lazyflow.operators.classifierOperators: Features took 8.147896 seconds. Prediction took 2.632021 seconds. Subregion: start '[0, 184, 0, 0]' stop '[92, 276, 92, 2]'\n"
     ]
    },
    {
     "name": "stderr",
     "output_type": "stream",
     "text": [
      "DEBUG:lazyflow.operators.classifierOperators:Features took 8.147896 seconds. Prediction took 2.632021 seconds. Subregion: start '[0, 184, 0, 0]' stop '[92, 276, 92, 2]'\n"
     ]
    }
   ],
   "source": [
    "# Load the model linked to the dataset\n",
    "model_file = model_selection.value\n",
    "\n",
    "\n",
    "images = conn.getObjects('Image', opts={'dataset': dataset_id})\n",
    "\n",
    "# Prepare ilastik\n",
    "os.environ[\"LAZYFLOW_THREADS\"] = \"2\"\n",
    "os.environ[\"LAZYFLOW_TOTAL_RAM_MB\"] = \"2000\"\n",
    "args = app.parse_args([])\n",
    "args.headless = True\n",
    "args.project = model_file\n",
    "shell = app.main(args)\n",
    "\n",
    "values = itertools.islice(images, 2)\n",
    "for image in values:\n",
    "    filename, file_extension = os.path.splitext(image.getName())\n",
    "    input_data = load_from_s3(image)\n",
    "\n",
    "    # run ilastik headless\n",
    "    print('running ilastik using %s and %s' % (model_file, image.getName()))\n",
    "    role_data_dict = [ {\"Raw Data\": PreloadedArrayDatasetInfo(preloaded_array=input_data, axistags=vigra.defaultAxistags(\"tzyxc\"))}]\n",
    "    predictions = shell.workflow.batchProcessingApplet.run_export(role_data_dict, export_to_array=True)\n",
    "    for data in predictions:\n",
    "        # Re-organise array from tzyxc to zctyx order expected by OMERO\n",
    "        data = data.swapaxes(0, 1).swapaxes(3, 4).swapaxes(2, 3).swapaxes(1, 2)\n",
    "        data_viewer = data[:, 0, 0, :, :]\n",
    "print(\"done\")"
   ]
  },
  {
   "cell_type": "markdown",
   "metadata": {},
   "source": [
    "### View the results."
   ]
  },
  {
   "cell_type": "code",
   "execution_count": 9,
   "metadata": {},
   "outputs": [
    {
     "data": {
      "application/vnd.jupyter.widget-view+json": {
       "model_id": "50060e0950954c969d39a338bc2b9462",
       "version_major": 2,
       "version_minor": 0
      },
      "text/plain": [
       "Viewer(rendered_image=<itkImagePython.itkImageF3; proxy of <Swig Object of type 'itkImageF3 *' at 0x7f0354361f…"
      ]
     },
     "metadata": {},
     "output_type": "display_data"
    }
   ],
   "source": [
    "view(data_viewer)"
   ]
  },
  {
   "cell_type": "markdown",
   "metadata": {},
   "source": [
    "### Close the connection to the OMERO server"
   ]
  },
  {
   "cell_type": "code",
   "execution_count": 10,
   "metadata": {},
   "outputs": [],
   "source": [
    "conn.close()"
   ]
  },
  {
   "cell_type": "markdown",
   "metadata": {
    "collapsed": true
   },
   "source": [
    "# License\n",
    "Copyright (C) 2019-2021 University of Dundee. All Rights Reserved.\n",
    "This program is free software; you can redistribute it and/or modify it\n",
    "under the terms of the GNU General Public License as published by the\n",
    "Free Software Foundation; either version 2 of the License, or\n",
    "(at your option) any later version.\n",
    "This program is distributed in the hope that it will be useful, but\n",
    "WITHOUT ANY WARRANTY; without even the implied warranty of MERCHANTABILITY\n",
    "or FITNESS FOR A PARTICULAR PURPOSE. See the GNU General Public License for\n",
    "more details. You should have received a copy of the GNU General\n",
    "Public License along with this program; if not, write to the\n",
    "Free Software Foundation,\n",
    "Inc., 51 Franklin Street, Fifth Floor, Boston, MA 02110-1301 USA."
   ]
  }
 ],
 "metadata": {
  "kernelspec": {
   "display_name": "Python 3",
   "language": "python",
   "name": "python3"
  },
  "language_info": {
   "codemirror_mode": {
    "name": "ipython",
    "version": 3
   },
   "file_extension": ".py",
   "mimetype": "text/x-python",
   "name": "python",
   "nbconvert_exporter": "python",
   "pygments_lexer": "ipython3",
   "version": "3.7.8"
  },
  "toc": {
   "base_numbering": 1,
   "nav_menu": {},
   "number_sections": false,
   "sideBar": false,
   "skip_h1_title": false,
   "title_cell": "Table of Contents",
   "title_sidebar": "Contents",
   "toc_cell": false,
   "toc_position": {},
   "toc_section_display": false,
   "toc_window_display": false
  }
 },
 "nbformat": 4,
 "nbformat_minor": 2
}

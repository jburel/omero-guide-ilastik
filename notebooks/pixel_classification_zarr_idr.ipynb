{
 "cells": [
  {
   "cell_type": "markdown",
   "metadata": {},
   "source": [
    "# Analyze data using ilastik\n",
    "The notebook shows how load an image from IDR\n",
    "analyze it in ilastik.\n",
    "Binary data are read from S3.\n",
    "The order might need to be adjusted depending on the ilastik project."
   ]
  },
  {
   "cell_type": "markdown",
   "metadata": {},
   "source": [
    "### Insert required packages"
   ]
  },
  {
   "cell_type": "code",
   "execution_count": 28,
   "metadata": {},
   "outputs": [],
   "source": [
    "from os.path import expanduser\n",
    "import os\n",
    "import numpy\n",
    "import zarr\n",
    "import dask.array as da\n",
    "import dask.array.image\n",
    "import s3fs\n",
    "\n",
    "import omero.clients\n",
    "from omero.gateway import BlitzGateway\n",
    "from getpass import getpass\n",
    "from collections import OrderedDict\n",
    "\n",
    "import ilastik_main\n",
    "from ilastik.applets.dataSelection import DatasetInfo\n",
    "from ilastik.applets.dataSelection.opDataSelection import PreloadedArrayDatasetInfo\n",
    "\n",
    "# package for 3d visualization\n",
    "from itkwidgets import view"
   ]
  },
  {
   "cell_type": "markdown",
   "metadata": {},
   "source": [
    "### Create a connection to IDR"
   ]
  },
  {
   "cell_type": "code",
   "execution_count": 29,
   "metadata": {},
   "outputs": [
    {
     "data": {
      "text/plain": [
       "True"
      ]
     },
     "execution_count": 29,
     "metadata": {},
     "output_type": "execute_result"
    }
   ],
   "source": [
    "HOST = 'wss://idr.openmicroscopy.org/omero-ws'\n",
    "conn = BlitzGateway('public', 'public',\n",
    "                    host=HOST, secure=True)\n",
    "conn.connect()"
   ]
  },
  {
   "cell_type": "markdown",
   "metadata": {},
   "source": [
    "### Enter the image ID"
   ]
  },
  {
   "cell_type": "code",
   "execution_count": 30,
   "metadata": {},
   "outputs": [],
   "source": [
    "image_id = 6001240"
   ]
  },
  {
   "cell_type": "markdown",
   "metadata": {},
   "source": [
    "### Helper function: load an Image as 5D-numpy array: order TZYXC"
   ]
  },
  {
   "cell_type": "code",
   "execution_count": 31,
   "metadata": {},
   "outputs": [],
   "source": [
    "def load_from_s3(id, resolution='0'):\n",
    "    cache_size_mb = 2048\n",
    "    cfg = {\n",
    "        'anon': True,\n",
    "        'client_kwargs': {\n",
    "            'endpoint_url': 'https://minio-dev.openmicroscopy.org/',\n",
    "        },\n",
    "        'root': 'idr/zarr/v0.1/%s.zarr/%s/' % (id, resolution)\n",
    "    }\n",
    "    s3 = s3fs.S3FileSystem(\n",
    "        anon=cfg['anon'],\n",
    "        client_kwargs=cfg['client_kwargs'],\n",
    "    )\n",
    "    store = s3fs.S3Map(root=cfg['root'], s3=s3, check=False)\n",
    "    cached_store = zarr.LRUStoreCache(store, max_size=(cache_size_mb * 2**20))\n",
    "    # data.shape is (t, c, z, y, x) by convention\n",
    "    data = da.from_zarr(cached_store)\n",
    "    values = data[:]\n",
    "    return numpy.asarray(values)"
   ]
  },
  {
   "cell_type": "markdown",
   "metadata": {},
   "source": [
    "### Load data"
   ]
  },
  {
   "cell_type": "code",
   "execution_count": 32,
   "metadata": {},
   "outputs": [],
   "source": [
    "input_data = load_from_s3(image_id)"
   ]
  },
  {
   "cell_type": "markdown",
   "metadata": {},
   "source": [
    "### View data"
   ]
  },
  {
   "cell_type": "code",
   "execution_count": 33,
   "metadata": {},
   "outputs": [
    {
     "data": {
      "application/vnd.jupyter.widget-view+json": {
       "model_id": "d6a19879439f47a8aa352c50b6f13eed",
       "version_major": 2,
       "version_minor": 0
      },
      "text/plain": [
       "Viewer(gradient_opacity=0.4, rendered_image=<itkImagePython.itkImageUS3; proxy of <Swig Object of type 'itkIma…"
      ]
     },
     "metadata": {},
     "output_type": "display_data"
    }
   ],
   "source": [
    "values = input_data[0, 0, :, : ,:]\n",
    "view(values, shadow=False, gradient_opacity=0.4, ui_collapsed=True)"
   ]
  },
  {
   "cell_type": "markdown",
   "metadata": {},
   "source": [
    "### Load each image as an 5D-numpy array and analyze.\n",
    "Save the probabilities as Zarr zip and link it to the image."
   ]
  },
  {
   "cell_type": "code",
   "execution_count": 34,
   "metadata": {},
   "outputs": [
    {
     "name": "stdout",
     "output_type": "stream",
     "text": [
      "(1, 236, 275, 271, 2)\n",
      "INFO ilastik_main: Starting ilastik from \"/srv/conda/envs/notebook\".\n",
      "INFO ilastik_main: Starting ilastik from \"/srv/conda/envs/notebook\".\n",
      "INFO ilastik_main: Starting ilastik from \"/srv/conda/envs/notebook\".\n",
      "INFO ilastik_main: Starting ilastik from \"/srv/conda/envs/notebook\".\n"
     ]
    },
    {
     "name": "stderr",
     "output_type": "stream",
     "text": [
      "INFO:ilastik_main:Starting ilastik from \"/srv/conda/envs/notebook\".\n"
     ]
    },
    {
     "name": "stdout",
     "output_type": "stream",
     "text": [
      "Starting ilastik from \"/srv/conda/envs/notebook\".\n",
      "INFO ilastik_main: Resetting lazyflow thread pool with 2 threads.\n",
      "INFO ilastik_main: Resetting lazyflow thread pool with 2 threads.\n",
      "INFO ilastik_main: Resetting lazyflow thread pool with 2 threads.\n",
      "INFO ilastik_main: Resetting lazyflow thread pool with 2 threads.\n"
     ]
    },
    {
     "name": "stderr",
     "output_type": "stream",
     "text": [
      "INFO:ilastik_main:Resetting lazyflow thread pool with 2 threads.\n"
     ]
    },
    {
     "name": "stdout",
     "output_type": "stream",
     "text": [
      "INFO ilastik_main: Configuring lazyflow RAM limit to 2.0GiB\n",
      "INFO ilastik_main: Configuring lazyflow RAM limit to 2.0GiB\n",
      "INFO ilastik_main: Configuring lazyflow RAM limit to 2.0GiB\n",
      "INFO ilastik_main: Configuring lazyflow RAM limit to 2.0GiB\n"
     ]
    },
    {
     "name": "stderr",
     "output_type": "stream",
     "text": [
      "INFO:ilastik_main:Configuring lazyflow RAM limit to 2.0GiB\n"
     ]
    },
    {
     "name": "stdout",
     "output_type": "stream",
     "text": [
      "INFO lazyflow.utility.memory: Available memory set to 2.0GiB\n",
      "INFO lazyflow.utility.memory: Available memory set to 2.0GiB\n",
      "INFO lazyflow.utility.memory: Available memory set to 2.0GiB\n",
      "INFO lazyflow.utility.memory: Available memory set to 2.0GiB\n"
     ]
    },
    {
     "name": "stderr",
     "output_type": "stream",
     "text": [
      "INFO:lazyflow.utility.memory:Available memory set to 2.0GiB\n",
      "WARNING 2020-04-23 20:05:17,863 memory 161 140153071249216 User specified memory exceeds memory physically available. Please check theconfiguration.\n",
      "WARNING 2020-04-23 20:05:17,863 memory 161 140153071249216 User specified memory exceeds memory physically available. Please check theconfiguration.\n",
      "WARNING 2020-04-23 20:05:17,863 memory 161 140153071249216 User specified memory exceeds memory physically available. Please check theconfiguration.\n",
      "WARNING 2020-04-23 20:05:17,863 memory 161 140153071249216 User specified memory exceeds memory physically available. Please check theconfiguration.\n",
      "WARNING:lazyflow.utility.memory:User specified memory exceeds memory physically available. Please check theconfiguration.\n"
     ]
    },
    {
     "name": "stdout",
     "output_type": "stream",
     "text": [
      "INFO ilastik.shell.projectManager: Opening Project: /home/jmarie/notebooks/pipelines/pixel-class-133.ilp\n",
      "INFO ilastik.shell.projectManager: Opening Project: /home/jmarie/notebooks/pipelines/pixel-class-133.ilp\n",
      "INFO ilastik.shell.projectManager: Opening Project: /home/jmarie/notebooks/pipelines/pixel-class-133.ilp\n",
      "INFO ilastik.shell.projectManager: Opening Project: /home/jmarie/notebooks/pipelines/pixel-class-133.ilp\n"
     ]
    },
    {
     "name": "stderr",
     "output_type": "stream",
     "text": [
      "INFO:ilastik.shell.projectManager:Opening Project: /home/jmarie/notebooks/pipelines/pixel-class-133.ilp\n",
      "WARNING projectManager.py(158): H5pyDeprecationWarning: dataset.value has been deprecated. Use dataset[()] instead.\n",
      "WARNING projectManager.py(168): H5pyDeprecationWarning: dataset.value has been deprecated. Use dataset[()] instead.\n",
      "WARNING dataSelectionSerializer.py(385): H5pyDeprecationWarning: dataset.value has been deprecated. Use dataset[()] instead.\n",
      "WARNING featureSelectionSerializer.py(91): H5pyDeprecationWarning: dataset.value has been deprecated. Use dataset[()] instead.\n",
      "WARNING featureSelectionSerializer.py(96): H5pyDeprecationWarning: dataset.value has been deprecated. Use dataset[()] instead.\n",
      "WARNING featureSelectionSerializer.py(102): H5pyDeprecationWarning: dataset.value has been deprecated. Use dataset[()] instead.\n",
      "WARNING featureSelectionSerializer.py(122): H5pyDeprecationWarning: dataset.value has been deprecated. Use dataset[()] instead.\n",
      "WARNING opSimpleBlockedArrayCache.py(43): FutureWarning: Conversion of the second argument of issubdtype from `dtype` to `np.generic` is deprecated. In future, it will be treated as `np.object_ == np.dtype(dtype).type`.\n",
      "WARNING opSlicedBlockedArrayCache.py(141): FutureWarning: Conversion of the second argument of issubdtype from `dtype` to `np.generic` is deprecated. In future, it will be treated as `np.object_ == np.dtype(dtype).type`.\n",
      "WARNING featureSelectionSerializer.py(169): H5pyDeprecationWarning: dataset.value has been deprecated. Use dataset[()] instead.\n",
      "WARNING pixelClassificationSerializer.py(227): H5pyDeprecationWarning: dataset.value has been deprecated. Use dataset[()] instead.\n"
     ]
    },
    {
     "name": "stdout",
     "output_type": "stream",
     "text": [
      "running ilastik using /home/jmarie/notebooks/pipelines/pixel-class-133.ilp\n",
      "INFO ilastik.applets.batchProcessing.batchProcessingApplet: Exporting to in-memory array.\n",
      "INFO ilastik.applets.batchProcessing.batchProcessingApplet: Exporting to in-memory array.\n",
      "INFO ilastik.applets.batchProcessing.batchProcessingApplet: Exporting to in-memory array.\n",
      "INFO ilastik.applets.batchProcessing.batchProcessingApplet: Exporting to in-memory array.\n"
     ]
    },
    {
     "name": "stderr",
     "output_type": "stream",
     "text": [
      "INFO:ilastik.applets.batchProcessing.batchProcessingApplet:Exporting to in-memory array.\n"
     ]
    },
    {
     "name": "stdout",
     "output_type": "stream",
     "text": [
      "INFO lazyflow.utility.bigRequestStreamer: Estimated RAM usage per pixel is 504.0B * safety factor (2.0)\n",
      "INFO lazyflow.utility.bigRequestStreamer: Estimated RAM usage per pixel is 504.0B * safety factor (2.0)\n",
      "INFO lazyflow.utility.bigRequestStreamer: Estimated RAM usage per pixel is 504.0B * safety factor (2.0)\n",
      "INFO lazyflow.utility.bigRequestStreamer: Estimated RAM usage per pixel is 504.0B * safety factor (2.0)\n"
     ]
    },
    {
     "name": "stderr",
     "output_type": "stream",
     "text": [
      "INFO:lazyflow.utility.bigRequestStreamer:Estimated RAM usage per pixel is 504.0B * safety factor (2.0)\n"
     ]
    },
    {
     "name": "stdout",
     "output_type": "stream",
     "text": [
      "INFO lazyflow.utility.bigRequestStreamer: determining blockshape assuming available_ram is 1.5GiB, split between 2 threads\n",
      "INFO lazyflow.utility.bigRequestStreamer: determining blockshape assuming available_ram is 1.5GiB, split between 2 threads\n",
      "INFO lazyflow.utility.bigRequestStreamer: determining blockshape assuming available_ram is 1.5GiB, split between 2 threads\n",
      "INFO lazyflow.utility.bigRequestStreamer: determining blockshape assuming available_ram is 1.5GiB, split between 2 threads\n"
     ]
    },
    {
     "name": "stderr",
     "output_type": "stream",
     "text": [
      "INFO:lazyflow.utility.bigRequestStreamer:determining blockshape assuming available_ram is 1.5GiB, split between 2 threads\n"
     ]
    },
    {
     "name": "stdout",
     "output_type": "stream",
     "text": [
      "INFO lazyflow.utility.bigRequestStreamer: Chose blockshape: (1, 92, 92, 92, 2)\n",
      "INFO lazyflow.utility.bigRequestStreamer: Chose blockshape: (1, 92, 92, 92, 2)\n",
      "INFO lazyflow.utility.bigRequestStreamer: Chose blockshape: (1, 92, 92, 92, 2)\n",
      "INFO lazyflow.utility.bigRequestStreamer: Chose blockshape: (1, 92, 92, 92, 2)\n"
     ]
    },
    {
     "name": "stderr",
     "output_type": "stream",
     "text": [
      "INFO:lazyflow.utility.bigRequestStreamer:Chose blockshape: (1, 92, 92, 92, 2)\n"
     ]
    },
    {
     "name": "stdout",
     "output_type": "stream",
     "text": [
      "INFO lazyflow.utility.bigRequestStreamer: Estimated RAM usage per block is 748.6MiB\n",
      "INFO lazyflow.utility.bigRequestStreamer: Estimated RAM usage per block is 748.6MiB\n",
      "INFO lazyflow.utility.bigRequestStreamer: Estimated RAM usage per block is 748.6MiB\n",
      "INFO lazyflow.utility.bigRequestStreamer: Estimated RAM usage per block is 748.6MiB\n"
     ]
    },
    {
     "name": "stderr",
     "output_type": "stream",
     "text": [
      "INFO:lazyflow.utility.bigRequestStreamer:Estimated RAM usage per block is 748.6MiB\n",
      "WARNING arraytypes.py(1263): FutureWarning: Using a non-tuple sequence for multidimensional indexing is deprecated; use `arr[tuple(seq)]` instead of `arr[seq]`. In the future this will be interpreted as an array index, `arr[np.array(seq)]`, which will result either in an error or a different result.\n",
      "WARNING arraytypes.py(1269): FutureWarning: Using a non-tuple sequence for multidimensional indexing is deprecated; use `arr[tuple(seq)]` instead of `arr[seq]`. In the future this will be interpreted as an array index, `arr[np.array(seq)]`, which will result either in an error or a different result.\n"
     ]
    },
    {
     "name": "stdout",
     "output_type": "stream",
     "text": [
      "DEBUG lazyflow.operators.classifierOperators: Features took 13.325021 seconds. Prediction took 1.886341 seconds. Subregion: start '[0, 0, 0, 0]' stop '[92, 92, 92, 2]'\n",
      "DEBUG lazyflow.operators.classifierOperators: Features took 13.325021 seconds. Prediction took 1.886341 seconds. Subregion: start '[0, 0, 0, 0]' stop '[92, 92, 92, 2]'\n",
      "DEBUG lazyflow.operators.classifierOperators: Features took 13.325021 seconds. Prediction took 1.886341 seconds. Subregion: start '[0, 0, 0, 0]' stop '[92, 92, 92, 2]'\n",
      "DEBUG lazyflow.operators.classifierOperators: Features took 13.325021 seconds. Prediction took 1.886341 seconds. Subregion: start '[0, 0, 0, 0]' stop '[92, 92, 92, 2]'\n"
     ]
    },
    {
     "name": "stderr",
     "output_type": "stream",
     "text": [
      "DEBUG:lazyflow.operators.classifierOperators:Features took 13.325021 seconds. Prediction took 1.886341 seconds. Subregion: start '[0, 0, 0, 0]' stop '[92, 92, 92, 2]'\n"
     ]
    },
    {
     "name": "stdout",
     "output_type": "stream",
     "text": [
      "DEBUG lazyflow.operators.classifierOperators: Features took 16.70393 seconds. Prediction took 2.843589 seconds. Subregion: start '[0, 0, 92, 0]' stop '[92, 92, 184, 2]'\n",
      "DEBUG lazyflow.operators.classifierOperators: Features took 16.70393 seconds. Prediction took 2.843589 seconds. Subregion: start '[0, 0, 92, 0]' stop '[92, 92, 184, 2]'\n",
      "DEBUG lazyflow.operators.classifierOperators: Features took 16.70393 seconds. Prediction took 2.843589 seconds. Subregion: start '[0, 0, 92, 0]' stop '[92, 92, 184, 2]'\n",
      "DEBUG lazyflow.operators.classifierOperators: Features took 16.70393 seconds. Prediction took 2.843589 seconds. Subregion: start '[0, 0, 92, 0]' stop '[92, 92, 184, 2]'\n"
     ]
    },
    {
     "name": "stderr",
     "output_type": "stream",
     "text": [
      "DEBUG:lazyflow.operators.classifierOperators:Features took 16.70393 seconds. Prediction took 2.843589 seconds. Subregion: start '[0, 0, 92, 0]' stop '[92, 92, 184, 2]'\n"
     ]
    },
    {
     "name": "stdout",
     "output_type": "stream",
     "text": [
      "DEBUG lazyflow.operators.classifierOperators: Features took 5.768891 seconds. Prediction took 2.513512 seconds. Subregion: start '[0, 0, 184, 0]' stop '[92, 92, 271, 2]'\n",
      "DEBUG lazyflow.operators.classifierOperators: Features took 5.768891 seconds. Prediction took 2.513512 seconds. Subregion: start '[0, 0, 184, 0]' stop '[92, 92, 271, 2]'\n",
      "DEBUG lazyflow.operators.classifierOperators: Features took 5.768891 seconds. Prediction took 2.513512 seconds. Subregion: start '[0, 0, 184, 0]' stop '[92, 92, 271, 2]'\n",
      "DEBUG lazyflow.operators.classifierOperators: Features took 5.768891 seconds. Prediction took 2.513512 seconds. Subregion: start '[0, 0, 184, 0]' stop '[92, 92, 271, 2]'\n"
     ]
    },
    {
     "name": "stderr",
     "output_type": "stream",
     "text": [
      "DEBUG:lazyflow.operators.classifierOperators:Features took 5.768891 seconds. Prediction took 2.513512 seconds. Subregion: start '[0, 0, 184, 0]' stop '[92, 92, 271, 2]'\n"
     ]
    },
    {
     "name": "stdout",
     "output_type": "stream",
     "text": [
      "DEBUG lazyflow.operators.classifierOperators: Features took 7.530497 seconds. Prediction took 3.20739 seconds. Subregion: start '[0, 92, 0, 0]' stop '[92, 184, 92, 2]'\n",
      "DEBUG lazyflow.operators.classifierOperators: Features took 7.530497 seconds. Prediction took 3.20739 seconds. Subregion: start '[0, 92, 0, 0]' stop '[92, 184, 92, 2]'\n",
      "DEBUG lazyflow.operators.classifierOperators: Features took 7.530497 seconds. Prediction took 3.20739 seconds. Subregion: start '[0, 92, 0, 0]' stop '[92, 184, 92, 2]'\n",
      "DEBUG lazyflow.operators.classifierOperators: Features took 7.530497 seconds. Prediction took 3.20739 seconds. Subregion: start '[0, 92, 0, 0]' stop '[92, 184, 92, 2]'\n"
     ]
    },
    {
     "name": "stderr",
     "output_type": "stream",
     "text": [
      "DEBUG:lazyflow.operators.classifierOperators:Features took 7.530497 seconds. Prediction took 3.20739 seconds. Subregion: start '[0, 92, 0, 0]' stop '[92, 184, 92, 2]'\n"
     ]
    },
    {
     "name": "stdout",
     "output_type": "stream",
     "text": [
      "DEBUG lazyflow.operators.classifierOperators: Features took 7.953787 seconds. Prediction took 2.070256 seconds. Subregion: start '[0, 92, 92, 0]' stop '[92, 184, 184, 2]'\n",
      "DEBUG lazyflow.operators.classifierOperators: Features took 7.953787 seconds. Prediction took 2.070256 seconds. Subregion: start '[0, 92, 92, 0]' stop '[92, 184, 184, 2]'\n",
      "DEBUG lazyflow.operators.classifierOperators: Features took 7.953787 seconds. Prediction took 2.070256 seconds. Subregion: start '[0, 92, 92, 0]' stop '[92, 184, 184, 2]'\n",
      "DEBUG lazyflow.operators.classifierOperators: Features took 7.953787 seconds. Prediction took 2.070256 seconds. Subregion: start '[0, 92, 92, 0]' stop '[92, 184, 184, 2]'\n"
     ]
    },
    {
     "name": "stderr",
     "output_type": "stream",
     "text": [
      "DEBUG:lazyflow.operators.classifierOperators:Features took 7.953787 seconds. Prediction took 2.070256 seconds. Subregion: start '[0, 92, 92, 0]' stop '[92, 184, 184, 2]'\n"
     ]
    },
    {
     "name": "stdout",
     "output_type": "stream",
     "text": [
      "DEBUG lazyflow.operators.classifierOperators: Features took 5.396545 seconds. Prediction took 2.72265 seconds. Subregion: start '[0, 92, 184, 0]' stop '[92, 184, 271, 2]'\n",
      "DEBUG lazyflow.operators.classifierOperators: Features took 5.396545 seconds. Prediction took 2.72265 seconds. Subregion: start '[0, 92, 184, 0]' stop '[92, 184, 271, 2]'\n",
      "DEBUG lazyflow.operators.classifierOperators: Features took 5.396545 seconds. Prediction took 2.72265 seconds. Subregion: start '[0, 92, 184, 0]' stop '[92, 184, 271, 2]'\n",
      "DEBUG lazyflow.operators.classifierOperators: Features took 5.396545 seconds. Prediction took 2.72265 seconds. Subregion: start '[0, 92, 184, 0]' stop '[92, 184, 271, 2]'\n"
     ]
    },
    {
     "name": "stderr",
     "output_type": "stream",
     "text": [
      "DEBUG:lazyflow.operators.classifierOperators:Features took 5.396545 seconds. Prediction took 2.72265 seconds. Subregion: start '[0, 92, 184, 0]' stop '[92, 184, 271, 2]'\n"
     ]
    },
    {
     "name": "stdout",
     "output_type": "stream",
     "text": [
      "DEBUG lazyflow.operators.classifierOperators: Features took 8.22708 seconds. Prediction took 1.512643 seconds. Subregion: start '[0, 184, 0, 0]' stop '[92, 275, 92, 2]'\n",
      "DEBUG lazyflow.operators.classifierOperators: Features took 8.22708 seconds. Prediction took 1.512643 seconds. Subregion: start '[0, 184, 0, 0]' stop '[92, 275, 92, 2]'\n",
      "DEBUG lazyflow.operators.classifierOperators: Features took 8.22708 seconds. Prediction took 1.512643 seconds. Subregion: start '[0, 184, 0, 0]' stop '[92, 275, 92, 2]'\n",
      "DEBUG lazyflow.operators.classifierOperators: Features took 8.22708 seconds. Prediction took 1.512643 seconds. Subregion: start '[0, 184, 0, 0]' stop '[92, 275, 92, 2]'\n"
     ]
    },
    {
     "name": "stderr",
     "output_type": "stream",
     "text": [
      "DEBUG:lazyflow.operators.classifierOperators:Features took 8.22708 seconds. Prediction took 1.512643 seconds. Subregion: start '[0, 184, 0, 0]' stop '[92, 275, 92, 2]'\n"
     ]
    },
    {
     "name": "stdout",
     "output_type": "stream",
     "text": [
      "DEBUG lazyflow.operators.classifierOperators: Features took 7.49426 seconds. Prediction took 2.838852 seconds. Subregion: start '[0, 184, 92, 0]' stop '[92, 275, 184, 2]'\n",
      "DEBUG lazyflow.operators.classifierOperators: Features took 7.49426 seconds. Prediction took 2.838852 seconds. Subregion: start '[0, 184, 92, 0]' stop '[92, 275, 184, 2]'\n",
      "DEBUG lazyflow.operators.classifierOperators: Features took 7.49426 seconds. Prediction took 2.838852 seconds. Subregion: start '[0, 184, 92, 0]' stop '[92, 275, 184, 2]'\n",
      "DEBUG lazyflow.operators.classifierOperators: Features took 7.49426 seconds. Prediction took 2.838852 seconds. Subregion: start '[0, 184, 92, 0]' stop '[92, 275, 184, 2]'\n"
     ]
    },
    {
     "name": "stderr",
     "output_type": "stream",
     "text": [
      "DEBUG:lazyflow.operators.classifierOperators:Features took 7.49426 seconds. Prediction took 2.838852 seconds. Subregion: start '[0, 184, 92, 0]' stop '[92, 275, 184, 2]'\n"
     ]
    },
    {
     "name": "stdout",
     "output_type": "stream",
     "text": [
      "DEBUG lazyflow.operators.classifierOperators: Features took 7.574005 seconds. Prediction took 2.5277380000000003 seconds. Subregion: start '[0, 184, 184, 0]' stop '[92, 275, 271, 2]'\n",
      "DEBUG lazyflow.operators.classifierOperators: Features took 7.574005 seconds. Prediction took 2.5277380000000003 seconds. Subregion: start '[0, 184, 184, 0]' stop '[92, 275, 271, 2]'\n",
      "DEBUG lazyflow.operators.classifierOperators: Features took 7.574005 seconds. Prediction took 2.5277380000000003 seconds. Subregion: start '[0, 184, 184, 0]' stop '[92, 275, 271, 2]'\n",
      "DEBUG lazyflow.operators.classifierOperators: Features took 7.574005 seconds. Prediction took 2.5277380000000003 seconds. Subregion: start '[0, 184, 184, 0]' stop '[92, 275, 271, 2]'\n"
     ]
    },
    {
     "name": "stderr",
     "output_type": "stream",
     "text": [
      "DEBUG:lazyflow.operators.classifierOperators:Features took 7.574005 seconds. Prediction took 2.5277380000000003 seconds. Subregion: start '[0, 184, 184, 0]' stop '[92, 275, 271, 2]'\n"
     ]
    },
    {
     "name": "stdout",
     "output_type": "stream",
     "text": [
      "DEBUG lazyflow.operators.classifierOperators: Features took 7.922485 seconds. Prediction took 2.379825 seconds. Subregion: start '[92, 0, 0, 0]' stop '[184, 92, 92, 2]'\n",
      "DEBUG lazyflow.operators.classifierOperators: Features took 7.922485 seconds. Prediction took 2.379825 seconds. Subregion: start '[92, 0, 0, 0]' stop '[184, 92, 92, 2]'\n",
      "DEBUG lazyflow.operators.classifierOperators: Features took 7.922485 seconds. Prediction took 2.379825 seconds. Subregion: start '[92, 0, 0, 0]' stop '[184, 92, 92, 2]'\n",
      "DEBUG lazyflow.operators.classifierOperators: Features took 7.922485 seconds. Prediction took 2.379825 seconds. Subregion: start '[92, 0, 0, 0]' stop '[184, 92, 92, 2]'\n"
     ]
    },
    {
     "name": "stderr",
     "output_type": "stream",
     "text": [
      "DEBUG:lazyflow.operators.classifierOperators:Features took 7.922485 seconds. Prediction took 2.379825 seconds. Subregion: start '[92, 0, 0, 0]' stop '[184, 92, 92, 2]'\n"
     ]
    },
    {
     "name": "stdout",
     "output_type": "stream",
     "text": [
      "DEBUG lazyflow.operators.classifierOperators: Features took 6.242806 seconds. Prediction took 2.217307 seconds. Subregion: start '[92, 0, 92, 0]' stop '[184, 92, 184, 2]'\n",
      "DEBUG lazyflow.operators.classifierOperators: Features took 6.242806 seconds. Prediction took 2.217307 seconds. Subregion: start '[92, 0, 92, 0]' stop '[184, 92, 184, 2]'\n",
      "DEBUG lazyflow.operators.classifierOperators: Features took 6.242806 seconds. Prediction took 2.217307 seconds. Subregion: start '[92, 0, 92, 0]' stop '[184, 92, 184, 2]'\n",
      "DEBUG lazyflow.operators.classifierOperators: Features took 6.242806 seconds. Prediction took 2.217307 seconds. Subregion: start '[92, 0, 92, 0]' stop '[184, 92, 184, 2]'\n"
     ]
    },
    {
     "name": "stderr",
     "output_type": "stream",
     "text": [
      "DEBUG:lazyflow.operators.classifierOperators:Features took 6.242806 seconds. Prediction took 2.217307 seconds. Subregion: start '[92, 0, 92, 0]' stop '[184, 92, 184, 2]'\n"
     ]
    },
    {
     "name": "stdout",
     "output_type": "stream",
     "text": [
      "DEBUG lazyflow.operators.classifierOperators: Features took 5.81565 seconds. Prediction took 2.5761659999999997 seconds. Subregion: start '[92, 0, 184, 0]' stop '[184, 92, 271, 2]'\n",
      "DEBUG lazyflow.operators.classifierOperators: Features took 5.81565 seconds. Prediction took 2.5761659999999997 seconds. Subregion: start '[92, 0, 184, 0]' stop '[184, 92, 271, 2]'\n",
      "DEBUG lazyflow.operators.classifierOperators: Features took 5.81565 seconds. Prediction took 2.5761659999999997 seconds. Subregion: start '[92, 0, 184, 0]' stop '[184, 92, 271, 2]'\n",
      "DEBUG lazyflow.operators.classifierOperators: Features took 5.81565 seconds. Prediction took 2.5761659999999997 seconds. Subregion: start '[92, 0, 184, 0]' stop '[184, 92, 271, 2]'\n"
     ]
    },
    {
     "name": "stderr",
     "output_type": "stream",
     "text": [
      "DEBUG:lazyflow.operators.classifierOperators:Features took 5.81565 seconds. Prediction took 2.5761659999999997 seconds. Subregion: start '[92, 0, 184, 0]' stop '[184, 92, 271, 2]'\n"
     ]
    },
    {
     "name": "stdout",
     "output_type": "stream",
     "text": [
      "DEBUG lazyflow.operators.classifierOperators: Features took 7.950029 seconds. Prediction took 2.453556 seconds. Subregion: start '[92, 92, 0, 0]' stop '[184, 184, 92, 2]'\n",
      "DEBUG lazyflow.operators.classifierOperators: Features took 7.950029 seconds. Prediction took 2.453556 seconds. Subregion: start '[92, 92, 0, 0]' stop '[184, 184, 92, 2]'\n",
      "DEBUG lazyflow.operators.classifierOperators: Features took 7.950029 seconds. Prediction took 2.453556 seconds. Subregion: start '[92, 92, 0, 0]' stop '[184, 184, 92, 2]'\n",
      "DEBUG lazyflow.operators.classifierOperators: Features took 7.950029 seconds. Prediction took 2.453556 seconds. Subregion: start '[92, 92, 0, 0]' stop '[184, 184, 92, 2]'\n"
     ]
    },
    {
     "name": "stderr",
     "output_type": "stream",
     "text": [
      "DEBUG:lazyflow.operators.classifierOperators:Features took 7.950029 seconds. Prediction took 2.453556 seconds. Subregion: start '[92, 92, 0, 0]' stop '[184, 184, 92, 2]'\n"
     ]
    },
    {
     "name": "stdout",
     "output_type": "stream",
     "text": [
      "DEBUG lazyflow.operators.classifierOperators: Features took 9.266342 seconds. Prediction took 2.9894600000000002 seconds. Subregion: start '[92, 92, 92, 0]' stop '[184, 184, 184, 2]'\n",
      "DEBUG lazyflow.operators.classifierOperators: Features took 9.266342 seconds. Prediction took 2.9894600000000002 seconds. Subregion: start '[92, 92, 92, 0]' stop '[184, 184, 184, 2]'\n",
      "DEBUG lazyflow.operators.classifierOperators: Features took 9.266342 seconds. Prediction took 2.9894600000000002 seconds. Subregion: start '[92, 92, 92, 0]' stop '[184, 184, 184, 2]'\n",
      "DEBUG lazyflow.operators.classifierOperators: Features took 9.266342 seconds. Prediction took 2.9894600000000002 seconds. Subregion: start '[92, 92, 92, 0]' stop '[184, 184, 184, 2]'\n"
     ]
    },
    {
     "name": "stderr",
     "output_type": "stream",
     "text": [
      "DEBUG:lazyflow.operators.classifierOperators:Features took 9.266342 seconds. Prediction took 2.9894600000000002 seconds. Subregion: start '[92, 92, 92, 0]' stop '[184, 184, 184, 2]'\n"
     ]
    },
    {
     "name": "stdout",
     "output_type": "stream",
     "text": [
      "DEBUG lazyflow.operators.classifierOperators: Features took 7.847981 seconds. Prediction took 2.69156 seconds. Subregion: start '[92, 92, 184, 0]' stop '[184, 184, 271, 2]'\n",
      "DEBUG lazyflow.operators.classifierOperators: Features took 7.847981 seconds. Prediction took 2.69156 seconds. Subregion: start '[92, 92, 184, 0]' stop '[184, 184, 271, 2]'\n",
      "DEBUG lazyflow.operators.classifierOperators: Features took 7.847981 seconds. Prediction took 2.69156 seconds. Subregion: start '[92, 92, 184, 0]' stop '[184, 184, 271, 2]'\n",
      "DEBUG lazyflow.operators.classifierOperators: Features took 7.847981 seconds. Prediction took 2.69156 seconds. Subregion: start '[92, 92, 184, 0]' stop '[184, 184, 271, 2]'\n"
     ]
    },
    {
     "name": "stderr",
     "output_type": "stream",
     "text": [
      "DEBUG:lazyflow.operators.classifierOperators:Features took 7.847981 seconds. Prediction took 2.69156 seconds. Subregion: start '[92, 92, 184, 0]' stop '[184, 184, 271, 2]'\n"
     ]
    },
    {
     "name": "stdout",
     "output_type": "stream",
     "text": [
      "DEBUG lazyflow.operators.classifierOperators: Features took 6.339765 seconds. Prediction took 2.759913 seconds. Subregion: start '[92, 184, 0, 0]' stop '[184, 275, 92, 2]'\n",
      "DEBUG lazyflow.operators.classifierOperators: Features took 6.339765 seconds. Prediction took 2.759913 seconds. Subregion: start '[92, 184, 0, 0]' stop '[184, 275, 92, 2]'\n",
      "DEBUG lazyflow.operators.classifierOperators: Features took 6.339765 seconds. Prediction took 2.759913 seconds. Subregion: start '[92, 184, 0, 0]' stop '[184, 275, 92, 2]'\n",
      "DEBUG lazyflow.operators.classifierOperators: Features took 6.339765 seconds. Prediction took 2.759913 seconds. Subregion: start '[92, 184, 0, 0]' stop '[184, 275, 92, 2]'\n"
     ]
    },
    {
     "name": "stderr",
     "output_type": "stream",
     "text": [
      "DEBUG:lazyflow.operators.classifierOperators:Features took 6.339765 seconds. Prediction took 2.759913 seconds. Subregion: start '[92, 184, 0, 0]' stop '[184, 275, 92, 2]'\n"
     ]
    },
    {
     "name": "stdout",
     "output_type": "stream",
     "text": [
      "DEBUG lazyflow.operators.classifierOperators: Features took 6.145013 seconds. Prediction took 2.615354 seconds. Subregion: start '[92, 184, 92, 0]' stop '[184, 275, 184, 2]'\n",
      "DEBUG lazyflow.operators.classifierOperators: Features took 6.145013 seconds. Prediction took 2.615354 seconds. Subregion: start '[92, 184, 92, 0]' stop '[184, 275, 184, 2]'\n",
      "DEBUG lazyflow.operators.classifierOperators: Features took 6.145013 seconds. Prediction took 2.615354 seconds. Subregion: start '[92, 184, 92, 0]' stop '[184, 275, 184, 2]'\n",
      "DEBUG lazyflow.operators.classifierOperators: Features took 6.145013 seconds. Prediction took 2.615354 seconds. Subregion: start '[92, 184, 92, 0]' stop '[184, 275, 184, 2]'\n"
     ]
    },
    {
     "name": "stderr",
     "output_type": "stream",
     "text": [
      "DEBUG:lazyflow.operators.classifierOperators:Features took 6.145013 seconds. Prediction took 2.615354 seconds. Subregion: start '[92, 184, 92, 0]' stop '[184, 275, 184, 2]'\n"
     ]
    },
    {
     "name": "stdout",
     "output_type": "stream",
     "text": [
      "DEBUG lazyflow.operators.classifierOperators: Features took 6.352435 seconds. Prediction took 1.5862159999999998 seconds. Subregion: start '[92, 184, 184, 0]' stop '[184, 275, 271, 2]'\n",
      "DEBUG lazyflow.operators.classifierOperators: Features took 6.352435 seconds. Prediction took 1.5862159999999998 seconds. Subregion: start '[92, 184, 184, 0]' stop '[184, 275, 271, 2]'\n",
      "DEBUG lazyflow.operators.classifierOperators: Features took 6.352435 seconds. Prediction took 1.5862159999999998 seconds. Subregion: start '[92, 184, 184, 0]' stop '[184, 275, 271, 2]'\n",
      "DEBUG lazyflow.operators.classifierOperators: Features took 6.352435 seconds. Prediction took 1.5862159999999998 seconds. Subregion: start '[92, 184, 184, 0]' stop '[184, 275, 271, 2]'\n"
     ]
    },
    {
     "name": "stderr",
     "output_type": "stream",
     "text": [
      "DEBUG:lazyflow.operators.classifierOperators:Features took 6.352435 seconds. Prediction took 1.5862159999999998 seconds. Subregion: start '[92, 184, 184, 0]' stop '[184, 275, 271, 2]'\n"
     ]
    },
    {
     "name": "stdout",
     "output_type": "stream",
     "text": [
      "DEBUG lazyflow.operators.classifierOperators: Features took 3.511593 seconds. Prediction took 1.486515 seconds. Subregion: start '[184, 0, 0, 0]' stop '[236, 92, 92, 2]'\n",
      "DEBUG lazyflow.operators.classifierOperators: Features took 3.511593 seconds. Prediction took 1.486515 seconds. Subregion: start '[184, 0, 0, 0]' stop '[236, 92, 92, 2]'\n",
      "DEBUG lazyflow.operators.classifierOperators: Features took 3.511593 seconds. Prediction took 1.486515 seconds. Subregion: start '[184, 0, 0, 0]' stop '[236, 92, 92, 2]'\n",
      "DEBUG lazyflow.operators.classifierOperators: Features took 3.511593 seconds. Prediction took 1.486515 seconds. Subregion: start '[184, 0, 0, 0]' stop '[236, 92, 92, 2]'\n"
     ]
    },
    {
     "name": "stderr",
     "output_type": "stream",
     "text": [
      "DEBUG:lazyflow.operators.classifierOperators:Features took 3.511593 seconds. Prediction took 1.486515 seconds. Subregion: start '[184, 0, 0, 0]' stop '[236, 92, 92, 2]'\n"
     ]
    },
    {
     "name": "stdout",
     "output_type": "stream",
     "text": [
      "DEBUG lazyflow.operators.classifierOperators: Features took 3.325817 seconds. Prediction took 1.6766830000000001 seconds. Subregion: start '[184, 0, 92, 0]' stop '[236, 92, 184, 2]'\n",
      "DEBUG lazyflow.operators.classifierOperators: Features took 3.325817 seconds. Prediction took 1.6766830000000001 seconds. Subregion: start '[184, 0, 92, 0]' stop '[236, 92, 184, 2]'\n",
      "DEBUG lazyflow.operators.classifierOperators: Features took 3.325817 seconds. Prediction took 1.6766830000000001 seconds. Subregion: start '[184, 0, 92, 0]' stop '[236, 92, 184, 2]'\n",
      "DEBUG lazyflow.operators.classifierOperators: Features took 3.325817 seconds. Prediction took 1.6766830000000001 seconds. Subregion: start '[184, 0, 92, 0]' stop '[236, 92, 184, 2]'\n"
     ]
    },
    {
     "name": "stderr",
     "output_type": "stream",
     "text": [
      "DEBUG:lazyflow.operators.classifierOperators:Features took 3.325817 seconds. Prediction took 1.6766830000000001 seconds. Subregion: start '[184, 0, 92, 0]' stop '[236, 92, 184, 2]'\n"
     ]
    },
    {
     "name": "stdout",
     "output_type": "stream",
     "text": [
      "DEBUG lazyflow.operators.classifierOperators: Features took 3.908086 seconds. Prediction took 1.034082 seconds. Subregion: start '[184, 0, 184, 0]' stop '[236, 92, 271, 2]'\n",
      "DEBUG lazyflow.operators.classifierOperators: Features took 3.908086 seconds. Prediction took 1.034082 seconds. Subregion: start '[184, 0, 184, 0]' stop '[236, 92, 271, 2]'\n",
      "DEBUG lazyflow.operators.classifierOperators: Features took 3.908086 seconds. Prediction took 1.034082 seconds. Subregion: start '[184, 0, 184, 0]' stop '[236, 92, 271, 2]'\n",
      "DEBUG lazyflow.operators.classifierOperators: Features took 3.908086 seconds. Prediction took 1.034082 seconds. Subregion: start '[184, 0, 184, 0]' stop '[236, 92, 271, 2]'\n"
     ]
    },
    {
     "name": "stderr",
     "output_type": "stream",
     "text": [
      "DEBUG:lazyflow.operators.classifierOperators:Features took 3.908086 seconds. Prediction took 1.034082 seconds. Subregion: start '[184, 0, 184, 0]' stop '[236, 92, 271, 2]'\n"
     ]
    },
    {
     "name": "stdout",
     "output_type": "stream",
     "text": [
      "DEBUG lazyflow.operators.classifierOperators: Features took 2.954611 seconds. Prediction took 1.789569 seconds. Subregion: start '[184, 92, 0, 0]' stop '[236, 184, 92, 2]'\n",
      "DEBUG lazyflow.operators.classifierOperators: Features took 2.954611 seconds. Prediction took 1.789569 seconds. Subregion: start '[184, 92, 0, 0]' stop '[236, 184, 92, 2]'\n",
      "DEBUG lazyflow.operators.classifierOperators: Features took 2.954611 seconds. Prediction took 1.789569 seconds. Subregion: start '[184, 92, 0, 0]' stop '[236, 184, 92, 2]'\n",
      "DEBUG lazyflow.operators.classifierOperators: Features took 2.954611 seconds. Prediction took 1.789569 seconds. Subregion: start '[184, 92, 0, 0]' stop '[236, 184, 92, 2]'\n"
     ]
    },
    {
     "name": "stderr",
     "output_type": "stream",
     "text": [
      "DEBUG:lazyflow.operators.classifierOperators:Features took 2.954611 seconds. Prediction took 1.789569 seconds. Subregion: start '[184, 92, 0, 0]' stop '[236, 184, 92, 2]'\n"
     ]
    },
    {
     "name": "stdout",
     "output_type": "stream",
     "text": [
      "DEBUG lazyflow.operators.classifierOperators: Features took 3.78509 seconds. Prediction took 0.951023 seconds. Subregion: start '[184, 92, 92, 0]' stop '[236, 184, 184, 2]'\n",
      "DEBUG lazyflow.operators.classifierOperators: Features took 3.78509 seconds. Prediction took 0.951023 seconds. Subregion: start '[184, 92, 92, 0]' stop '[236, 184, 184, 2]'\n",
      "DEBUG lazyflow.operators.classifierOperators: Features took 3.78509 seconds. Prediction took 0.951023 seconds. Subregion: start '[184, 92, 92, 0]' stop '[236, 184, 184, 2]'\n",
      "DEBUG lazyflow.operators.classifierOperators: Features took 3.78509 seconds. Prediction took 0.951023 seconds. Subregion: start '[184, 92, 92, 0]' stop '[236, 184, 184, 2]'\n"
     ]
    },
    {
     "name": "stderr",
     "output_type": "stream",
     "text": [
      "DEBUG:lazyflow.operators.classifierOperators:Features took 3.78509 seconds. Prediction took 0.951023 seconds. Subregion: start '[184, 92, 92, 0]' stop '[236, 184, 184, 2]'\n"
     ]
    },
    {
     "name": "stdout",
     "output_type": "stream",
     "text": [
      "DEBUG lazyflow.operators.classifierOperators: Features took 2.663677 seconds. Prediction took 1.356147 seconds. Subregion: start '[184, 92, 184, 0]' stop '[236, 184, 271, 2]'\n",
      "DEBUG lazyflow.operators.classifierOperators: Features took 2.663677 seconds. Prediction took 1.356147 seconds. Subregion: start '[184, 92, 184, 0]' stop '[236, 184, 271, 2]'\n",
      "DEBUG lazyflow.operators.classifierOperators: Features took 2.663677 seconds. Prediction took 1.356147 seconds. Subregion: start '[184, 92, 184, 0]' stop '[236, 184, 271, 2]'\n",
      "DEBUG lazyflow.operators.classifierOperators: Features took 2.663677 seconds. Prediction took 1.356147 seconds. Subregion: start '[184, 92, 184, 0]' stop '[236, 184, 271, 2]'\n"
     ]
    },
    {
     "name": "stderr",
     "output_type": "stream",
     "text": [
      "DEBUG:lazyflow.operators.classifierOperators:Features took 2.663677 seconds. Prediction took 1.356147 seconds. Subregion: start '[184, 92, 184, 0]' stop '[236, 184, 271, 2]'\n"
     ]
    },
    {
     "name": "stdout",
     "output_type": "stream",
     "text": [
      "DEBUG lazyflow.operators.classifierOperators: Features took 3.154707 seconds. Prediction took 0.927638 seconds. Subregion: start '[184, 184, 0, 0]' stop '[236, 275, 92, 2]'\n",
      "DEBUG lazyflow.operators.classifierOperators: Features took 3.154707 seconds. Prediction took 0.927638 seconds. Subregion: start '[184, 184, 0, 0]' stop '[236, 275, 92, 2]'\n",
      "DEBUG lazyflow.operators.classifierOperators: Features took 3.154707 seconds. Prediction took 0.927638 seconds. Subregion: start '[184, 184, 0, 0]' stop '[236, 275, 92, 2]'\n",
      "DEBUG lazyflow.operators.classifierOperators: Features took 3.154707 seconds. Prediction took 0.927638 seconds. Subregion: start '[184, 184, 0, 0]' stop '[236, 275, 92, 2]'\n"
     ]
    },
    {
     "name": "stderr",
     "output_type": "stream",
     "text": [
      "DEBUG:lazyflow.operators.classifierOperators:Features took 3.154707 seconds. Prediction took 0.927638 seconds. Subregion: start '[184, 184, 0, 0]' stop '[236, 275, 92, 2]'\n"
     ]
    },
    {
     "name": "stdout",
     "output_type": "stream",
     "text": [
      "DEBUG lazyflow.operators.classifierOperators: Features took 2.660094 seconds. Prediction took 1.6399620000000001 seconds. Subregion: start '[184, 184, 92, 0]' stop '[236, 275, 184, 2]'\n",
      "DEBUG lazyflow.operators.classifierOperators: Features took 2.660094 seconds. Prediction took 1.6399620000000001 seconds. Subregion: start '[184, 184, 92, 0]' stop '[236, 275, 184, 2]'\n",
      "DEBUG lazyflow.operators.classifierOperators: Features took 2.660094 seconds. Prediction took 1.6399620000000001 seconds. Subregion: start '[184, 184, 92, 0]' stop '[236, 275, 184, 2]'\n",
      "DEBUG lazyflow.operators.classifierOperators: Features took 2.660094 seconds. Prediction took 1.6399620000000001 seconds. Subregion: start '[184, 184, 92, 0]' stop '[236, 275, 184, 2]'\n"
     ]
    },
    {
     "name": "stderr",
     "output_type": "stream",
     "text": [
      "DEBUG:lazyflow.operators.classifierOperators:Features took 2.660094 seconds. Prediction took 1.6399620000000001 seconds. Subregion: start '[184, 184, 92, 0]' stop '[236, 275, 184, 2]'\n"
     ]
    },
    {
     "name": "stdout",
     "output_type": "stream",
     "text": [
      "DEBUG lazyflow.operators.classifierOperators: Features took 2.916712 seconds. Prediction took 0.636036 seconds. Subregion: start '[184, 184, 184, 0]' stop '[236, 275, 271, 2]'\n",
      "DEBUG lazyflow.operators.classifierOperators: Features took 2.916712 seconds. Prediction took 0.636036 seconds. Subregion: start '[184, 184, 184, 0]' stop '[236, 275, 271, 2]'\n",
      "DEBUG lazyflow.operators.classifierOperators: Features took 2.916712 seconds. Prediction took 0.636036 seconds. Subregion: start '[184, 184, 184, 0]' stop '[236, 275, 271, 2]'\n",
      "DEBUG lazyflow.operators.classifierOperators: Features took 2.916712 seconds. Prediction took 0.636036 seconds. Subregion: start '[184, 184, 184, 0]' stop '[236, 275, 271, 2]'\n"
     ]
    },
    {
     "name": "stderr",
     "output_type": "stream",
     "text": [
      "DEBUG:lazyflow.operators.classifierOperators:Features took 2.916712 seconds. Prediction took 0.636036 seconds. Subregion: start '[184, 184, 184, 0]' stop '[236, 275, 271, 2]'\n"
     ]
    },
    {
     "name": "stdout",
     "output_type": "stream",
     "text": [
      "done\n"
     ]
    }
   ],
   "source": [
    "# Load the model linked to the dataset\n",
    "home = expanduser(\"~\")\n",
    "model_file = home+\"/notebooks/pipelines/pixel-class-133.ilp\"\n",
    "input_data = input_data.swapaxes(1, 2).swapaxes(2, 3).swapaxes(3, 4)\n",
    "print(input_data.shape)\n",
    "# Prepare ilastik\n",
    "os.environ[\"LAZYFLOW_THREADS\"] = \"2\"\n",
    "os.environ[\"LAZYFLOW_TOTAL_RAM_MB\"] = \"2000\"\n",
    "args = ilastik_main.parse_args([])\n",
    "args.headless = True\n",
    "args.project = model_file\n",
    "shell = ilastik_main.main(args)\n",
    "\n",
    "print('running ilastik using %s' % model_file)\n",
    "role_data_dict = OrderedDict(\n",
    "[\n",
    "    (\n",
    "        \"Raw Data\",\n",
    "        [\n",
    "            PreloadedArrayDatasetInfo(preloaded_array=input_data)\n",
    "        ],\n",
    "    )\n",
    "])\n",
    "predictions = shell.workflow.batchProcessingApplet.run_export(role_data_dict, export_to_array=True)\n",
    "for data in predictions:\n",
    "    # Re-organise array from tzyxc to zctyx order expected by OMERO\n",
    "    data = data.swapaxes(0, 1).swapaxes(3, 4).swapaxes(2, 3).swapaxes(1, 2)\n",
    "print(\"done\")"
   ]
  },
  {
   "cell_type": "markdown",
   "metadata": {},
   "source": [
    "### View the results."
   ]
  },
  {
   "cell_type": "code",
   "execution_count": 35,
   "metadata": {
    "scrolled": true
   },
   "outputs": [
    {
     "data": {
      "application/vnd.jupyter.widget-view+json": {
       "model_id": "d35b58cbaa4d4d2b887d4ef2b20002ea",
       "version_major": 2,
       "version_minor": 0
      },
      "text/plain": [
       "Viewer(rendered_image=<itkImagePython.itkImageUC3; proxy of <Swig Object of type 'itkImageUC3 *' at 0x7f775590…"
      ]
     },
     "metadata": {},
     "output_type": "display_data"
    }
   ],
   "source": [
    "data_viewer = data[:, 0, 0, :, :]\n",
    "data_viewer = data_viewer.astype(numpy.uint8)\n",
    "view(data_viewer)"
   ]
  },
  {
   "cell_type": "markdown",
   "metadata": {},
   "source": [
    "### Close the connection"
   ]
  },
  {
   "cell_type": "code",
   "execution_count": 36,
   "metadata": {},
   "outputs": [],
   "source": [
    "conn.close()"
   ]
  },
  {
   "cell_type": "markdown",
   "metadata": {
    "collapsed": true
   },
   "source": [
    "### License\n",
    "Copyright (C) 2019-2020 University of Dundee. All Rights Reserved.\n",
    "This program is free software; you can redistribute it and/or modify it\n",
    "under the terms of the GNU General Public License as published by the\n",
    "Free Software Foundation; either version 2 of the License, or\n",
    "(at your option) any later version.\n",
    "This program is distributed in the hope that it will be useful, but\n",
    "WITHOUT ANY WARRANTY; without even the implied warranty of MERCHANTABILITY\n",
    "or FITNESS FOR A PARTICULAR PURPOSE. See the GNU General Public License for\n",
    "more details. You should have received a copy of the GNU General\n",
    "Public License along with this program; if not, write to the\n",
    "Free Software Foundation,\n",
    "Inc., 51 Franklin Street, Fifth Floor, Boston, MA 02110-1301 USA."
   ]
  }
 ],
 "metadata": {
  "kernelspec": {
   "display_name": "Python 3",
   "language": "python",
   "name": "python3"
  },
  "language_info": {
   "codemirror_mode": {
    "name": "ipython",
    "version": 3
   },
   "file_extension": ".py",
   "mimetype": "text/x-python",
   "name": "python",
   "nbconvert_exporter": "python",
   "pygments_lexer": "ipython3",
   "version": "3.7.6"
  },
  "toc": {
   "base_numbering": 1,
   "nav_menu": {},
   "number_sections": false,
   "sideBar": false,
   "skip_h1_title": false,
   "title_cell": "Table of Contents",
   "title_sidebar": "Contents",
   "toc_cell": false,
   "toc_position": {},
   "toc_section_display": false,
   "toc_window_display": false
  }
 },
 "nbformat": 4,
 "nbformat_minor": 2
}

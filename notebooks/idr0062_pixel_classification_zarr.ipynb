{
 "cells": [
  {
   "cell_type": "markdown",
   "metadata": {},
   "source": [
    "# Analyze Zarr Image from a public S3 repository using ilastik \n",
    "The notebook shows how to load an IDR image converted into a Zarr file.\n",
    "\n",
    "The image is then analyzed using [ilastik](https://ilastik.github.io/).\n",
    "The image is taken from  the paper \"NesSys: a novel method for accurate nuclear segmentation in 3D\" published August 2019 in PLOS Biology: https://doi.org/10.1371/journal.pbio.3000388\n",
    "\n",
    "The images can be viewed online in the [Image Data Resource](https://idr.openmicroscopy.org/webclient/?show=project-801).\n",
    "\n",
    "Binary data are read from a public S3 repository.\n",
    "The dimension might need to be adjusted depending on the ilastik project."
   ]
  },
  {
   "cell_type": "markdown",
   "metadata": {},
   "source": [
    "### Insert required packages"
   ]
  },
  {
   "cell_type": "code",
   "execution_count": 1,
   "metadata": {},
   "outputs": [
    {
     "name": "stderr",
     "output_type": "stream",
     "text": [
      "The 'numba.jitclass' decorator has moved to 'numba.experimental.jitclass' to better reflect the experimental nature of the functionality. Please update your imports to accommodate this change and see http://numba.pydata.org/numba-doc/latest/reference/deprecation.html#change-of-jitclass-location for the time frame.\n"
     ]
    }
   ],
   "source": [
    "import os\n",
    "import numpy\n",
    "import zarr\n",
    "import dask.array as da\n",
    "from dask.diagnostics import ProgressBar\n",
    "\n",
    "from collections import OrderedDict\n",
    "\n",
    "from ilastik import app\n",
    "from ilastik.applets.dataSelection.opDataSelection import PreloadedArrayDatasetInfo\n",
    "\n",
    "# package for 3d visualization\n",
    "from itkwidgets import compare, view"
   ]
  },
  {
   "cell_type": "markdown",
   "metadata": {},
   "source": [
    "### Enter the image ID"
   ]
  },
  {
   "cell_type": "code",
   "execution_count": 2,
   "metadata": {},
   "outputs": [],
   "source": [
    "image_id = 6001240"
   ]
  },
  {
   "cell_type": "markdown",
   "metadata": {},
   "source": [
    "### Load an Image as 5D-numpy array from S3"
   ]
  },
  {
   "cell_type": "code",
   "execution_count": 3,
   "metadata": {},
   "outputs": [],
   "source": [
    "def load_from_s3(id, resolution='0'):\n",
    "    endpoint_url = 'https://s3.embassy.ebi.ac.uk/'\n",
    "    root = 'idr/zarr/v0.1/%s.zarr/%s/' % (id, resolution)\n",
    "    # data.shape is (t, c, z, y, x) by convention\n",
    "    print(da.from_zarr(endpoint_url + root))\n",
    "    with ProgressBar():\n",
    "        return numpy.asarray(da.from_zarr(endpoint_url + root))"
   ]
  },
  {
   "cell_type": "markdown",
   "metadata": {},
   "source": [
    "### Load data"
   ]
  },
  {
   "cell_type": "code",
   "execution_count": 4,
   "metadata": {},
   "outputs": [
    {
     "name": "stdout",
     "output_type": "stream",
     "text": [
      "dask.array<from-zarr, shape=(1, 2, 236, 275, 271), dtype=>u2, chunksize=(1, 1, 1, 275, 271), chunktype=numpy.ndarray>\n",
      "[########################################] | 100% Completed | 18.5s\n",
      "CPU times: user 3.8 s, sys: 1.72 s, total: 5.53 s\n",
      "Wall time: 18.9 s\n"
     ]
    }
   ],
   "source": [
    "%time input_data = load_from_s3(image_id)"
   ]
  },
  {
   "cell_type": "markdown",
   "metadata": {},
   "source": [
    "### Store the channels data so we can compare them with the results of the pixel classification later."
   ]
  },
  {
   "cell_type": "code",
   "execution_count": 5,
   "metadata": {},
   "outputs": [],
   "source": [
    "first_channel = input_data[0, 0, :, : ,:]\n",
    "second_channel = input_data[0, 1, :, : ,:]"
   ]
  },
  {
   "cell_type": "markdown",
   "metadata": {},
   "source": [
    "### Load each image as a 5D-numpy array and analyze."
   ]
  },
  {
   "cell_type": "code",
   "execution_count": 6,
   "metadata": {},
   "outputs": [
    {
     "name": "stdout",
     "output_type": "stream",
     "text": [
      "(1, 236, 275, 271, 2)\n",
      "INFO ilastik.app: Starting ilastik from \"/srv/conda/envs/notebook/ilastik-meta\".\n",
      "Starting ilastik from \"/srv/conda/envs/notebook/ilastik-meta\".\n",
      "INFO ilastik.app: Resetting lazyflow thread pool with 2 threads.\n",
      "INFO ilastik.app: Configuring lazyflow RAM limit to 2.0GiB\n",
      "INFO lazyflow.utility.memory: Available memory set to 2.0GiB\n"
     ]
    },
    {
     "name": "stderr",
     "output_type": "stream",
     "text": [
      "WARNING 2020-07-10 09:10:59,164 memory 110 140051834550080 User specified memory exceeds memory physically available. Please check theconfiguration.\n",
      "WARNING 2020-07-10 09:11:00,331 __init__ 110 140051834550080 Failed to automatic tracking workflow; check dependencies: libemon.so.1.3.1: cannot open shared object file: No such file or directory\n",
      "WARNING 2020-07-10 09:11:00,336 __init__ 110 140051834550080 Failed to import automatic tracking workflow (conservation tracking). For this workflow, see the installationinstructions on our website ilastik.org; check dependencies: libemon.so.1.3.1: cannot open shared object file: No such file or directory\n",
      "WARNING 2020-07-10 09:11:00,356 __init__ 110 140051834550080 Failed to import structured learning tracking workflow. For this workflow, see the installationinstructions on our website ilastik.org; check dependencies: libemon.so.1.3.1: cannot open shared object file: No such file or directory\n"
     ]
    },
    {
     "name": "stdout",
     "output_type": "stream",
     "text": [
      "INFO ilastik.shell.projectManager: Opening Project: /home/jmarie/notebooks/pipelines/pixel-class-133.ilp\n"
     ]
    },
    {
     "name": "stderr",
     "output_type": "stream",
     "text": [
      "WARNING opSimpleBlockedArrayCache.py(43): FutureWarning: Conversion of the second argument of issubdtype from `dtype` to `np.generic` is deprecated. In future, it will be treated as `np.object_ == np.dtype(dtype).type`.\n",
      "WARNING opSlicedBlockedArrayCache.py(141): FutureWarning: Conversion of the second argument of issubdtype from `dtype` to `np.generic` is deprecated. In future, it will be treated as `np.object_ == np.dtype(dtype).type`.\n"
     ]
    },
    {
     "name": "stdout",
     "output_type": "stream",
     "text": [
      "running ilastik using /home/jmarie/notebooks/pipelines/pixel-class-133.ilp\n",
      "INFO ilastik.applets.batchProcessing.batchProcessingApplet: Exporting to in-memory array.\n",
      "INFO lazyflow.utility.bigRequestStreamer: Estimated RAM usage per pixel is 504.0B * safety factor (2.0)\n",
      "INFO lazyflow.utility.bigRequestStreamer: determining blockshape assuming available_ram is 1.5GiB, split between 2 threads\n",
      "INFO lazyflow.utility.bigRequestStreamer: Chose blockshape: (1, 92, 92, 92, 2)\n",
      "INFO lazyflow.utility.bigRequestStreamer: Estimated RAM usage per block is 748.6MiB\n"
     ]
    },
    {
     "name": "stderr",
     "output_type": "stream",
     "text": [
      "WARNING arraytypes.py(1263): FutureWarning: Using a non-tuple sequence for multidimensional indexing is deprecated; use `arr[tuple(seq)]` instead of `arr[seq]`. In the future this will be interpreted as an array index, `arr[np.array(seq)]`, which will result either in an error or a different result.\n",
      "WARNING arraytypes.py(1269): FutureWarning: Using a non-tuple sequence for multidimensional indexing is deprecated; use `arr[tuple(seq)]` instead of `arr[seq]`. In the future this will be interpreted as an array index, `arr[np.array(seq)]`, which will result either in an error or a different result.\n"
     ]
    },
    {
     "name": "stdout",
     "output_type": "stream",
     "text": [
      "DEBUG lazyflow.operators.classifierOperators: Features took 5.478854 seconds. Prediction took 2.139839 seconds. Subregion: start '[0, 0, 0, 0]' stop '[92, 92, 92, 2]'\n",
      "DEBUG lazyflow.operators.classifierOperators: Features took 8.867785 seconds. Prediction took 2.017484 seconds. Subregion: start '[0, 0, 92, 0]' stop '[92, 92, 184, 2]'\n",
      "DEBUG lazyflow.operators.classifierOperators: Features took 5.008051 seconds. Prediction took 2.820926 seconds. Subregion: start '[0, 0, 184, 0]' stop '[92, 92, 271, 2]'\n",
      "DEBUG lazyflow.operators.classifierOperators: Features took 7.662044 seconds. Prediction took 3.075553 seconds. Subregion: start '[0, 92, 0, 0]' stop '[92, 184, 92, 2]'\n",
      "DEBUG lazyflow.operators.classifierOperators: Features took 8.729481 seconds. Prediction took 1.903667 seconds. Subregion: start '[0, 92, 92, 0]' stop '[92, 184, 184, 2]'\n",
      "DEBUG lazyflow.operators.classifierOperators: Features took 6.224377 seconds. Prediction took 2.003933 seconds. Subregion: start '[0, 92, 184, 0]' stop '[92, 184, 271, 2]'\n",
      "DEBUG lazyflow.operators.classifierOperators: Features took 5.551197 seconds. Prediction took 3.142026 seconds. Subregion: start '[0, 184, 0, 0]' stop '[92, 275, 92, 2]'\n",
      "DEBUG lazyflow.operators.classifierOperators: Features took 7.083608 seconds. Prediction took 2.306144 seconds. Subregion: start '[0, 184, 92, 0]' stop '[92, 275, 184, 2]'\n",
      "DEBUG lazyflow.operators.classifierOperators: Features took 5.604004 seconds. Prediction took 2.909892 seconds. Subregion: start '[0, 184, 184, 0]' stop '[92, 275, 271, 2]'\n",
      "DEBUG lazyflow.operators.classifierOperators: Features took 6.261586 seconds. Prediction took 1.885527 seconds. Subregion: start '[92, 0, 0, 0]' stop '[184, 92, 92, 2]'\n",
      "DEBUG lazyflow.operators.classifierOperators: Features took 5.808587 seconds. Prediction took 3.005224 seconds. Subregion: start '[92, 0, 92, 0]' stop '[184, 92, 184, 2]'\n",
      "DEBUG lazyflow.operators.classifierOperators: Features took 6.160385 seconds. Prediction took 2.345721 seconds. Subregion: start '[92, 0, 184, 0]' stop '[184, 92, 271, 2]'\n",
      "DEBUG lazyflow.operators.classifierOperators: Features took 6.441618 seconds. Prediction took 3.3040570000000002 seconds. Subregion: start '[92, 92, 0, 0]' stop '[184, 184, 92, 2]'\n",
      "DEBUG lazyflow.operators.classifierOperators: Features took 8.416225 seconds. Prediction took 2.652074 seconds. Subregion: start '[92, 92, 92, 0]' stop '[184, 184, 184, 2]'\n",
      "DEBUG lazyflow.operators.classifierOperators: Features took 6.656697 seconds. Prediction took 3.348869 seconds. Subregion: start '[92, 92, 184, 0]' stop '[184, 184, 271, 2]'\n",
      "DEBUG lazyflow.operators.classifierOperators: Features took 7.8698820000000005 seconds. Prediction took 1.865376 seconds. Subregion: start '[92, 184, 0, 0]' stop '[184, 275, 92, 2]'\n",
      "DEBUG lazyflow.operators.classifierOperators: Features took 6.522002 seconds. Prediction took 2.062324 seconds. Subregion: start '[92, 184, 92, 0]' stop '[184, 275, 184, 2]'\n",
      "DEBUG lazyflow.operators.classifierOperators: Features took 5.779011 seconds. Prediction took 1.885991 seconds. Subregion: start '[92, 184, 184, 0]' stop '[184, 275, 271, 2]'\n",
      "DEBUG lazyflow.operators.classifierOperators: Features took 4.10637 seconds. Prediction took 1.383276 seconds. Subregion: start '[184, 0, 0, 0]' stop '[236, 92, 92, 2]'\n",
      "DEBUG lazyflow.operators.classifierOperators: Features took 2.58472 seconds. Prediction took 1.76117 seconds. Subregion: start '[184, 0, 92, 0]' stop '[236, 92, 184, 2]'\n",
      "DEBUG lazyflow.operators.classifierOperators: Features took 3.699107 seconds. Prediction took 1.193086 seconds. Subregion: start '[184, 0, 184, 0]' stop '[236, 92, 271, 2]'\n",
      "DEBUG lazyflow.operators.classifierOperators: Features took 3.14948 seconds. Prediction took 1.36707 seconds. Subregion: start '[184, 92, 0, 0]' stop '[236, 184, 92, 2]'\n",
      "DEBUG lazyflow.operators.classifierOperators: Features took 3.303739 seconds. Prediction took 1.294808 seconds. Subregion: start '[184, 92, 92, 0]' stop '[236, 184, 184, 2]'\n",
      "DEBUG lazyflow.operators.classifierOperators: Features took 2.9556940000000003 seconds. Prediction took 1.255455 seconds. Subregion: start '[184, 92, 184, 0]' stop '[236, 184, 271, 2]'\n",
      "DEBUG lazyflow.operators.classifierOperators: Features took 2.70872 seconds. Prediction took 1.2729300000000001 seconds. Subregion: start '[184, 184, 0, 0]' stop '[236, 275, 92, 2]'\n",
      "DEBUG lazyflow.operators.classifierOperators: Features took 3.002017 seconds. Prediction took 1.099658 seconds. Subregion: start '[184, 184, 92, 0]' stop '[236, 275, 184, 2]'\n",
      "DEBUG lazyflow.operators.classifierOperators: Features took 2.463295 seconds. Prediction took 0.924374 seconds. Subregion: start '[184, 184, 184, 0]' stop '[236, 275, 271, 2]'\n",
      "done\n"
     ]
    }
   ],
   "source": [
    "# Load the model linked to the dataset\n",
    "home = os.path.expanduser(\"~\")\n",
    "model_file = home+\"/notebooks/pipelines/pixel-class-133.ilp\"\n",
    "# Re-order the array tczyx -> tzyxc\n",
    "input_data = input_data.swapaxes(1, 2).swapaxes(2, 3).swapaxes(3, 4)\n",
    "print(input_data.shape)\n",
    "# Prepare ilastik\n",
    "os.environ[\"LAZYFLOW_THREADS\"] = \"2\"\n",
    "os.environ[\"LAZYFLOW_TOTAL_RAM_MB\"] = \"2000\"\n",
    "args = app.parse_args([])\n",
    "args.headless = True\n",
    "args.project = model_file\n",
    "shell = app.main(args)\n",
    "\n",
    "print('running ilastik using %s' % model_file)\n",
    "role_data_dict = OrderedDict(\n",
    "[\n",
    "    (\n",
    "        \"Raw Data\",\n",
    "        [\n",
    "            PreloadedArrayDatasetInfo(preloaded_array=input_data)\n",
    "        ],\n",
    "    )\n",
    "])\n",
    "predictions = shell.workflow.batchProcessingApplet.run_export(role_data_dict, export_to_array=True)\n",
    "for data in predictions:\n",
    "    # Re-organise array from tzyxc to tczyx order\n",
    "    data = data.swapaxes(4, 3).swapaxes(3, 2).swapaxes(2, 1)\n",
    "print(\"done\")"
   ]
  },
  {
   "cell_type": "markdown",
   "metadata": {},
   "source": [
    "### View the first channel and the analysis result side-by-side"
   ]
  },
  {
   "cell_type": "code",
   "execution_count": 11,
   "metadata": {
    "scrolled": true
   },
   "outputs": [
    {
     "data": {
      "application/vnd.jupyter.widget-view+json": {
       "model_id": "67d47712a94642d0afaf3518e2ba91dd",
       "version_major": 2,
       "version_minor": 0
      },
      "text/plain": [
       "AppLayout(children=(HBox(children=(Label(value='Link:'), Checkbox(value=False, description='cmap'), Checkbox(v…"
      ]
     },
     "metadata": {},
     "output_type": "display_data"
    }
   ],
   "source": [
    "compare(first_channel, data[0, 0, :, :, :], shadow=False, gradient_opacity=0.2, ui_collapsed=True)"
   ]
  },
  {
   "cell_type": "markdown",
   "metadata": {},
   "source": [
    "### Combine the  pixels classification map and the image."
   ]
  },
  {
   "cell_type": "code",
   "execution_count": 10,
   "metadata": {},
   "outputs": [
    {
     "data": {
      "application/vnd.jupyter.widget-view+json": {
       "model_id": "4fa2bd9fe4464bce9b20fc7554dc367a",
       "version_major": 2,
       "version_minor": 0
      },
      "text/plain": [
       "Viewer(geometries=[], interpolation=False, label_image_blend=0.9, label_image_names=[(0, 'First channel'), (1,…"
      ]
     },
     "metadata": {},
     "output_type": "display_data"
    }
   ],
   "source": [
    "names = [(0, 'First channel'), (1, 'Pixels Classification')]\n",
    "viewer = view(first_channel,\n",
    "              label_image=data[0, 0, :, :, :],\n",
    "              label_image_names=names,\n",
    "              label_image_blend=0.8,\n",
    "              gradient_opacity=0.5,\n",
    "              slicing_planes=False)\n",
    "viewer"
   ]
  },
  {
   "cell_type": "markdown",
   "metadata": {
    "collapsed": true
   },
   "source": [
    "### License\n",
    "Copyright (C) 2019-2020 University of Dundee. All Rights Reserved.\n",
    "This program is free software; you can redistribute it and/or modify it\n",
    "under the terms of the GNU General Public License as published by the\n",
    "Free Software Foundation; either version 2 of the License, or\n",
    "(at your option) any later version.\n",
    "This program is distributed in the hope that it will be useful, but\n",
    "WITHOUT ANY WARRANTY; without even the implied warranty of MERCHANTABILITY\n",
    "or FITNESS FOR A PARTICULAR PURPOSE. See the GNU General Public License for\n",
    "more details. You should have received a copy of the GNU General\n",
    "Public License along with this program; if not, write to the\n",
    "Free Software Foundation,\n",
    "Inc., 51 Franklin Street, Fifth Floor, Boston, MA 02110-1301 USA."
   ]
  }
 ],
 "metadata": {
  "kernelspec": {
   "display_name": "Python 3",
   "language": "python",
   "name": "python3"
  },
  "language_info": {
   "codemirror_mode": {
    "name": "ipython",
    "version": 3
   },
   "file_extension": ".py",
   "mimetype": "text/x-python",
   "name": "python",
   "nbconvert_exporter": "python",
   "pygments_lexer": "ipython3",
   "version": "3.7.6"
  },
  "toc": {
   "base_numbering": 1,
   "nav_menu": {},
   "number_sections": false,
   "sideBar": false,
   "skip_h1_title": false,
   "title_cell": "Table of Contents",
   "title_sidebar": "Contents",
   "toc_cell": false,
   "toc_position": {},
   "toc_section_display": false,
   "toc_window_display": false
  }
 },
 "nbformat": 4,
 "nbformat_minor": 2
}
